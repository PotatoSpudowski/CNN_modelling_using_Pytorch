{
  "nbformat": 4,
  "nbformat_minor": 0,
  "metadata": {
    "colab": {
      "name": "CNN_modeling_using_PyTorch.ipynb",
      "provenance": [],
      "collapsed_sections": [],
      "include_colab_link": true
    },
    "kernelspec": {
      "name": "python3",
      "display_name": "Python 3"
    }
  },
  "cells": [
    {
      "cell_type": "markdown",
      "metadata": {
        "id": "view-in-github",
        "colab_type": "text"
      },
      "source": [
        "<a href=\"https://colab.research.google.com/github/PotatoSpudowski/CNN_modelling_using_Pytorch/blob/master/CNN_modeling_using_PyTorch.ipynb\" target=\"_parent\"><img src=\"https://colab.research.google.com/assets/colab-badge.svg\" alt=\"Open In Colab\"/></a>"
      ]
    },
    {
      "cell_type": "code",
      "metadata": {
        "id": "gKvKtbffJGnU",
        "colab_type": "code",
        "colab": {}
      },
      "source": [
        "import torch\n",
        "import torchvision\n",
        "import torch.nn as nn\n",
        "import torch.nn.functional as F\n",
        "import torch.optim as optim\n",
        "import torchvision.transforms as transforms\n",
        "import numpy as np\n",
        "import matplotlib.pyplot as plt\n",
        "plt.style.use('seaborn-whitegrid')\n",
        "\n",
        "torch.set_printoptions(linewidth=120)"
      ],
      "execution_count": 0,
      "outputs": []
    },
    {
      "cell_type": "code",
      "metadata": {
        "id": "ti-i7nLMNHZo",
        "colab_type": "code",
        "colab": {
          "base_uri": "https://localhost:8080/",
          "height": 275
        },
        "outputId": "2a05daa1-14b5-454b-e3dd-99315e8ad37b"
      },
      "source": [
        "train = torchvision.datasets.FashionMNIST(\n",
        "    root = \"./data/FashionMNIST\",\n",
        "    train=True,\n",
        "    download=True,\n",
        "    transform=transforms.Compose([\n",
        "                transforms.ToTensor()                  \n",
        "    ])\n",
        ")"
      ],
      "execution_count": 2,
      "outputs": [
        {
          "output_type": "stream",
          "text": [
            "\r0it [00:00, ?it/s]"
          ],
          "name": "stderr"
        },
        {
          "output_type": "stream",
          "text": [
            "Downloading http://fashion-mnist.s3-website.eu-central-1.amazonaws.com/train-images-idx3-ubyte.gz to ./data/FashionMNIST/FashionMNIST/raw/train-images-idx3-ubyte.gz\n"
          ],
          "name": "stdout"
        },
        {
          "output_type": "stream",
          "text": [
            "26427392it [00:01, 13717287.38it/s]                             \n"
          ],
          "name": "stderr"
        },
        {
          "output_type": "stream",
          "text": [
            "Extracting ./data/FashionMNIST/FashionMNIST/raw/train-images-idx3-ubyte.gz to ./data/FashionMNIST/FashionMNIST/raw\n"
          ],
          "name": "stdout"
        },
        {
          "output_type": "stream",
          "text": [
            "\r0it [00:00, ?it/s]"
          ],
          "name": "stderr"
        },
        {
          "output_type": "stream",
          "text": [
            "Downloading http://fashion-mnist.s3-website.eu-central-1.amazonaws.com/train-labels-idx1-ubyte.gz to ./data/FashionMNIST/FashionMNIST/raw/train-labels-idx1-ubyte.gz\n"
          ],
          "name": "stdout"
        },
        {
          "output_type": "stream",
          "text": [
            "32768it [00:00, 96112.70it/s]                            \n",
            "0it [00:00, ?it/s]"
          ],
          "name": "stderr"
        },
        {
          "output_type": "stream",
          "text": [
            "Extracting ./data/FashionMNIST/FashionMNIST/raw/train-labels-idx1-ubyte.gz to ./data/FashionMNIST/FashionMNIST/raw\n",
            "Downloading http://fashion-mnist.s3-website.eu-central-1.amazonaws.com/t10k-images-idx3-ubyte.gz to ./data/FashionMNIST/FashionMNIST/raw/t10k-images-idx3-ubyte.gz\n"
          ],
          "name": "stdout"
        },
        {
          "output_type": "stream",
          "text": [
            "4423680it [00:01, 4036970.32it/s]                             \n",
            "0it [00:00, ?it/s]"
          ],
          "name": "stderr"
        },
        {
          "output_type": "stream",
          "text": [
            "Extracting ./data/FashionMNIST/FashionMNIST/raw/t10k-images-idx3-ubyte.gz to ./data/FashionMNIST/FashionMNIST/raw\n",
            "Downloading http://fashion-mnist.s3-website.eu-central-1.amazonaws.com/t10k-labels-idx1-ubyte.gz to ./data/FashionMNIST/FashionMNIST/raw/t10k-labels-idx1-ubyte.gz\n"
          ],
          "name": "stdout"
        },
        {
          "output_type": "stream",
          "text": [
            "8192it [00:00, 31067.54it/s]            "
          ],
          "name": "stderr"
        },
        {
          "output_type": "stream",
          "text": [
            "Extracting ./data/FashionMNIST/FashionMNIST/raw/t10k-labels-idx1-ubyte.gz to ./data/FashionMNIST/FashionMNIST/raw\n",
            "Processing...\n",
            "Done!\n"
          ],
          "name": "stdout"
        },
        {
          "output_type": "stream",
          "text": [
            "\n"
          ],
          "name": "stderr"
        }
      ]
    },
    {
      "cell_type": "code",
      "metadata": {
        "id": "xx87B4GRUVx3",
        "colab_type": "code",
        "colab": {}
      },
      "source": [
        "train_loader = torch.utils.data.DataLoader(train, batch_size=100)"
      ],
      "execution_count": 0,
      "outputs": []
    },
    {
      "cell_type": "code",
      "metadata": {
        "id": "Vs6VJkVbOwWK",
        "colab_type": "code",
        "colab": {
          "base_uri": "https://localhost:8080/",
          "height": 51
        },
        "outputId": "087c6d9d-6483-4ad2-9958-c5788e04a155"
      },
      "source": [
        "sample = next(iter(train))\n",
        "\n",
        "print(len(sample))\n",
        "print(type(sample))\n",
        "image, label = sample"
      ],
      "execution_count": 4,
      "outputs": [
        {
          "output_type": "stream",
          "text": [
            "2\n",
            "<class 'tuple'>\n"
          ],
          "name": "stdout"
        }
      ]
    },
    {
      "cell_type": "code",
      "metadata": {
        "id": "mNNlNEEmSKuA",
        "colab_type": "code",
        "colab": {
          "base_uri": "https://localhost:8080/",
          "height": 34
        },
        "outputId": "5acc6233-3128-4ff9-b2cf-808e4c2a33da"
      },
      "source": [
        "print(\"Image shape: \" + str(image.shape))"
      ],
      "execution_count": 5,
      "outputs": [
        {
          "output_type": "stream",
          "text": [
            "Image shape: torch.Size([1, 28, 28])\n"
          ],
          "name": "stdout"
        }
      ]
    },
    {
      "cell_type": "code",
      "metadata": {
        "id": "qd_KLgFrSeex",
        "colab_type": "code",
        "colab": {
          "base_uri": "https://localhost:8080/",
          "height": 282
        },
        "outputId": "a0701b68-42d8-468f-a496-d6257ee11666"
      },
      "source": [
        "plt.imshow(image.squeeze(), cmap=\"gray\")\n",
        "print('label :', label)"
      ],
      "execution_count": 6,
      "outputs": [
        {
          "output_type": "stream",
          "text": [
            "label : 9\n"
          ],
          "name": "stdout"
        },
        {
          "output_type": "display_data",
          "data": {
            "image/png": "[encoded data removed]",
            "text/plain": [
              "<Figure size 432x288 with 1 Axes>"
            ]
          },
          "metadata": {
            "tags": []
          }
        }
      ]
    },
    {
      "cell_type": "code",
      "metadata": {
        "id": "fQgpPdjhTFiz",
        "colab_type": "code",
        "colab": {}
      },
      "source": [
        "batch = next(iter(train_loader))\n",
        "images, labels = batch"
      ],
      "execution_count": 0,
      "outputs": []
    },
    {
      "cell_type": "code",
      "metadata": {
        "id": "kUhW8bJsT3oK",
        "colab_type": "code",
        "colab": {
          "base_uri": "https://localhost:8080/",
          "height": 34
        },
        "outputId": "4da7635d-2595-451d-a684-61d37a5fc813"
      },
      "source": [
        "images.shape"
      ],
      "execution_count": 8,
      "outputs": [
        {
          "output_type": "execute_result",
          "data": {
            "text/plain": [
              "torch.Size([100, 1, 28, 28])"
            ]
          },
          "metadata": {
            "tags": []
          },
          "execution_count": 8
        }
      ]
    },
    {
      "cell_type": "code",
      "metadata": {
        "id": "Rf_3S2ouUktd",
        "colab_type": "code",
        "colab": {
          "base_uri": "https://localhost:8080/",
          "height": 917
        },
        "outputId": "dfe80d57-c662-4613-b095-1fc6cf52e363"
      },
      "source": [
        "grid = torchvision.utils.make_grid(images, nrow=10)\n",
        "\n",
        "plt.figure(figsize=(15,15))\n",
        "plt.imshow(np.transpose(grid, (1,2,0)))\n",
        "print('labels :', labels)"
      ],
      "execution_count": 9,
      "outputs": [
        {
          "output_type": "stream",
          "text": [
            "labels : tensor([9, 0, 0, 3, 0, 2, 7, 2, 5, 5, 0, 9, 5, 5, 7, 9, 1, 0, 6, 4, 3, 1, 4, 8, 4, 3, 0, 2, 4, 4, 5, 3, 6, 6, 0, 8, 5,\n",
            "        2, 1, 6, 6, 7, 9, 5, 9, 2, 7, 3, 0, 3, 3, 3, 7, 2, 2, 6, 6, 8, 3, 3, 5, 0, 5, 5, 0, 2, 0, 0, 4, 1, 3, 1, 6, 3,\n",
            "        1, 4, 4, 6, 1, 9, 1, 3, 5, 7, 9, 7, 1, 7, 9, 9, 9, 3, 2, 9, 3, 6, 4, 1, 1, 8])\n"
          ],
          "name": "stdout"
        },
        {
          "output_type": "display_data",
          "data": {
            "image/png": "[encoded data removed]",
            "text/plain": [
              "<Figure size 1080x1080 with 1 Axes>"
            ]
          },
          "metadata": {
            "tags": []
          }
        }
      ]
    },
    {
      "cell_type": "markdown",
      "metadata": {
        "id": "AnX3NO7vkYl3",
        "colab_type": "text"
      },
      "source": [
        "#Model Building"
      ]
    },
    {
      "cell_type": "code",
      "metadata": {
        "id": "Sg1J3c1KVcv0",
        "colab_type": "code",
        "colab": {}
      },
      "source": [
        " class Network(nn.Module):\n",
        "    def __init__(self):\n",
        "        super(Network, self).__init__()\n",
        "        self.conv1 = nn.Conv2d(in_channels=1, out_channels=6, kernel_size=5)\n",
        "        self.conv2 = nn.Conv2d(in_channels=6, out_channels=12, kernel_size=5)\n",
        "\n",
        "        self.fc1 = nn.Linear(in_features=12*4*4, out_features=120)\n",
        "        self.fc2 = nn.Linear(in_features=120, out_features=60)\n",
        "        self.out = nn.Linear(in_features=60, out_features=10)\n",
        "\n",
        "    def forward(self, t):\n",
        "        #input layer\n",
        "        t = t\n",
        "\n",
        "        #conv1 layer\n",
        "        t = self.conv1(t)\n",
        "        t = F.relu(t)\n",
        "        t = F.max_pool2d(t, kernel_size=2, stride=2)\n",
        "\n",
        "        #conv2 layer\n",
        "        t = self.conv2(t)\n",
        "        t = F.relu(t)\n",
        "        t = F.max_pool2d(t, kernel_size=2, stride=2)\n",
        "\n",
        "        #fc1 layer\n",
        "        t = t.reshape(-1, 12 * 4 * 4)\n",
        "        t = self.fc1(t)\n",
        "        t = F.relu(t)\n",
        "\n",
        "        #fc2 layer\n",
        "        t = self.fc2(t)\n",
        "        t = F.relu(t)\n",
        "\n",
        "        #output layer\n",
        "        t = self.out(t)\n",
        "\n",
        "        return t\n"
      ],
      "execution_count": 0,
      "outputs": []
    },
    {
      "cell_type": "code",
      "metadata": {
        "id": "o61Rhy3hJBP8",
        "colab_type": "code",
        "colab": {
          "base_uri": "https://localhost:8080/",
          "height": 136
        },
        "outputId": "b65a89d9-5912-4b85-b0f8-2fd4adabea03"
      },
      "source": [
        "cnn = Network()\n",
        "cnn"
      ],
      "execution_count": 35,
      "outputs": [
        {
          "output_type": "execute_result",
          "data": {
            "text/plain": [
              "Network(\n",
              "  (conv1): Conv2d(1, 6, kernel_size=(5, 5), stride=(1, 1))\n",
              "  (conv2): Conv2d(6, 12, kernel_size=(5, 5), stride=(1, 1))\n",
              "  (fc1): Linear(in_features=192, out_features=120, bias=True)\n",
              "  (fc2): Linear(in_features=120, out_features=60, bias=True)\n",
              "  (out): Linear(in_features=60, out_features=10, bias=True)\n",
              ")"
            ]
          },
          "metadata": {
            "tags": []
          },
          "execution_count": 35
        }
      ]
    },
    {
      "cell_type": "code",
      "metadata": {
        "id": "7GaV5iH1JO5U",
        "colab_type": "code",
        "colab": {
          "base_uri": "https://localhost:8080/",
          "height": 714
        },
        "outputId": "e0304773-6e95-4989-d451-fccb27dc36f9"
      },
      "source": [
        "cnn.conv1.weight \n",
        "#Contains 6 randomly assigned tensors because out channels is 6"
      ],
      "execution_count": 36,
      "outputs": [
        {
          "output_type": "execute_result",
          "data": {
            "text/plain": [
              "Parameter containing:\n",
              "tensor([[[[-0.1227,  0.0907, -0.1377,  0.1556, -0.0886],\n",
              "          [ 0.1120, -0.1488, -0.0018,  0.0199, -0.0957],\n",
              "          [ 0.1452,  0.1077,  0.1674,  0.0465,  0.0050],\n",
              "          [ 0.0468, -0.1699, -0.0036,  0.0524, -0.1548],\n",
              "          [ 0.1338,  0.0017,  0.0346, -0.1483,  0.0223]]],\n",
              "\n",
              "\n",
              "        [[[ 0.1636,  0.0334, -0.0106, -0.0286, -0.1786],\n",
              "          [-0.0661,  0.0644,  0.1109, -0.1649, -0.0582],\n",
              "          [-0.1915, -0.0716, -0.1686, -0.1600,  0.1567],\n",
              "          [-0.1944,  0.0083, -0.0523,  0.0601, -0.0662],\n",
              "          [-0.0562,  0.1398, -0.0165,  0.1793, -0.1551]]],\n",
              "\n",
              "\n",
              "        [[[-0.1111, -0.1475,  0.0017,  0.0405, -0.1402],\n",
              "          [-0.1122,  0.1957, -0.0807,  0.1777,  0.0903],\n",
              "          [ 0.1112, -0.1437,  0.1705,  0.1619,  0.0371],\n",
              "          [-0.0489, -0.0964,  0.0042, -0.1952,  0.0677],\n",
              "          [-0.1060, -0.1986, -0.1178, -0.0723, -0.0567]]],\n",
              "\n",
              "\n",
              "        [[[-0.1031, -0.0925, -0.0830, -0.1914,  0.0564],\n",
              "          [-0.0419,  0.1472,  0.1064,  0.0984,  0.0621],\n",
              "          [ 0.1440, -0.1974, -0.0401, -0.0050, -0.1795],\n",
              "          [-0.0345, -0.0373, -0.0118, -0.1326, -0.0892],\n",
              "          [-0.1271,  0.1277,  0.0600,  0.1724, -0.0717]]],\n",
              "\n",
              "\n",
              "        [[[-0.1825, -0.1554, -0.1151,  0.1346, -0.0792],\n",
              "          [-0.1978, -0.1176,  0.0571,  0.1743,  0.0043],\n",
              "          [-0.1881, -0.0221, -0.1931,  0.0498, -0.0691],\n",
              "          [ 0.1031,  0.1285, -0.0475, -0.1430,  0.0288],\n",
              "          [ 0.0655, -0.0842, -0.0594,  0.1814, -0.0333]]],\n",
              "\n",
              "\n",
              "        [[[ 0.1154,  0.1896, -0.0349,  0.1900, -0.1287],\n",
              "          [-0.0735,  0.1705,  0.0068,  0.1031, -0.1785],\n",
              "          [ 0.0769,  0.0984,  0.0199,  0.1202, -0.0878],\n",
              "          [ 0.0594, -0.1343, -0.0976,  0.0185, -0.1061],\n",
              "          [-0.0398,  0.0992,  0.1323,  0.1073,  0.1257]]]], requires_grad=True)"
            ]
          },
          "metadata": {
            "tags": []
          },
          "execution_count": 36
        }
      ]
    },
    {
      "cell_type": "code",
      "metadata": {
        "id": "GTz-beidM6EA",
        "colab_type": "code",
        "colab": {
          "base_uri": "https://localhost:8080/",
          "height": 1000
        },
        "outputId": "ac813ebb-3710-45ee-a1c4-f7dd86ff72e4"
      },
      "source": [
        "cnn.out.weight"
      ],
      "execution_count": 37,
      "outputs": [
        {
          "output_type": "execute_result",
          "data": {
            "text/plain": [
              "Parameter containing:\n",
              "tensor([[ 3.5018e-05, -9.2143e-03,  6.9470e-02, -1.6057e-02,  2.3499e-03, -3.1390e-02,  4.4090e-02,  7.0655e-02,\n",
              "         -1.1830e-02,  1.0734e-01, -7.6941e-02,  3.8423e-02,  4.8719e-02, -1.0382e-01, -1.1883e-01, -8.1315e-03,\n",
              "          1.8621e-02, -6.4453e-02, -7.6867e-02, -4.9269e-02,  2.5441e-02, -5.7839e-02, -7.1250e-02,  8.2998e-02,\n",
              "          2.4019e-02, -3.3789e-02,  5.0432e-03,  1.1069e-01, -7.4997e-02,  6.4497e-02,  4.6864e-02,  7.8451e-02,\n",
              "         -3.7893e-03,  3.1314e-02,  1.1888e-01, -1.4489e-02, -1.0679e-01, -8.0317e-03, -2.2114e-02, -1.1200e-01,\n",
              "          5.4163e-02, -2.7914e-02,  4.0696e-03,  4.9155e-03,  1.1832e-01,  8.7378e-03,  5.8577e-02, -5.1869e-02,\n",
              "          2.0645e-02,  1.0849e-01,  9.6209e-02, -1.0658e-01,  2.9950e-02,  2.0880e-02, -9.7483e-02,  5.8054e-02,\n",
              "          1.8116e-02, -1.1328e-01, -8.4614e-02, -1.1494e-01],\n",
              "        [-8.6737e-02,  5.4884e-02, -1.2837e-01,  1.0062e-01,  2.6903e-02, -1.5521e-02, -1.2003e-01, -6.0410e-02,\n",
              "         -3.1970e-02,  4.7853e-02,  4.7132e-02,  1.9112e-02, -2.6796e-02, -2.6347e-02,  1.0093e-01, -1.1539e-01,\n",
              "         -2.9787e-02, -1.0478e-01,  1.1405e-01,  9.9224e-03, -8.4473e-02, -5.7836e-04, -3.8522e-02,  6.6643e-02,\n",
              "         -3.2050e-02, -9.6096e-02,  6.1289e-02, -1.1562e-01, -1.1155e-01,  1.2538e-01, -7.5109e-02, -6.1668e-04,\n",
              "         -1.3024e-02,  9.6866e-03,  1.2665e-01, -1.1944e-01, -7.9955e-02, -4.3239e-02,  1.1338e-01, -1.1127e-01,\n",
              "          3.7677e-03, -4.1826e-02, -1.2852e-01,  1.1148e-01, -7.7234e-03,  4.7624e-02,  1.2872e-01, -1.5681e-02,\n",
              "         -6.3680e-02, -4.2821e-02,  1.1832e-01, -1.2849e-01,  7.4804e-02,  1.2631e-01, -7.9995e-02,  1.2404e-01,\n",
              "         -6.2594e-02, -1.9719e-02,  9.3946e-03, -1.2011e-01],\n",
              "        [ 6.4169e-02,  5.8786e-02, -3.9443e-02, -7.8794e-03,  1.0652e-01, -8.5312e-02,  1.0921e-01, -3.0191e-02,\n",
              "         -8.9567e-02,  5.0138e-03,  8.9172e-02,  2.7411e-02, -1.6795e-02, -5.6729e-02, -6.1420e-02, -9.4193e-02,\n",
              "          8.3129e-02, -1.1058e-01, -3.7755e-02, -4.4051e-02,  7.5254e-02,  1.9146e-02, -6.9694e-02,  9.8554e-02,\n",
              "         -9.5170e-02, -4.3160e-02, -6.8052e-02, -6.4985e-02, -1.2105e-01,  9.2557e-02, -1.0360e-01, -2.5232e-02,\n",
              "          4.4359e-02, -8.9493e-03, -1.4115e-02,  8.2103e-02, -6.6026e-02, -7.7645e-02,  8.1804e-03, -5.1996e-02,\n",
              "          3.9411e-02,  4.4905e-02, -9.8474e-03,  1.1128e-01, -6.2519e-03,  2.2558e-02, -1.2391e-01, -7.6518e-03,\n",
              "          8.3533e-02,  1.0824e-01, -1.1737e-01,  5.2428e-02, -9.8541e-02,  8.5772e-02,  2.7868e-02,  9.1097e-02,\n",
              "         -1.0331e-01,  4.4127e-02,  1.4058e-02,  9.4598e-02],\n",
              "        [ 1.0835e-01, -5.8793e-02, -6.7645e-02,  6.9368e-02, -1.0727e-01, -5.1765e-02,  5.6209e-02,  8.7336e-02,\n",
              "         -1.1785e-01,  9.8873e-02, -3.8487e-02, -5.7872e-02,  7.9786e-03,  2.0577e-02,  9.4758e-02,  9.3357e-03,\n",
              "          1.1443e-02,  8.0983e-02,  5.0429e-02,  1.2874e-01, -1.2851e-01, -4.2110e-02,  1.0585e-01,  1.9121e-03,\n",
              "          1.0699e-03, -1.1883e-01,  9.3145e-02,  5.2567e-02, -5.8988e-02,  1.1613e-01,  5.7533e-02, -9.8998e-02,\n",
              "         -8.8986e-02, -9.0607e-02, -5.7507e-02,  8.2942e-02,  3.1936e-02, -6.4844e-02,  2.2471e-02,  1.2153e-01,\n",
              "          1.0178e-01,  1.2862e-01,  1.1012e-01,  6.2070e-02, -5.4622e-02,  4.2483e-02,  1.2310e-01, -3.3933e-03,\n",
              "          1.1378e-01, -8.2862e-02, -8.5373e-02,  2.1782e-02,  9.4665e-02,  1.2563e-01,  3.3064e-02,  9.2723e-02,\n",
              "         -4.5927e-02, -9.0257e-03, -9.0145e-02,  5.9285e-02],\n",
              "        [-3.3331e-02,  8.0178e-02, -1.5482e-02,  3.5629e-02,  7.9038e-02, -6.2444e-03, -1.0670e-01, -7.9689e-02,\n",
              "         -5.8634e-02, -1.0160e-01,  2.2479e-02,  1.2520e-01, -1.1165e-01, -1.1431e-01, -2.7061e-02, -3.5897e-02,\n",
              "          2.8539e-02, -1.2118e-01, -8.3145e-03, -8.8408e-02,  3.0876e-02,  6.6143e-02,  1.0485e-01, -3.6483e-02,\n",
              "          1.0383e-02, -4.2623e-02, -1.0700e-01,  8.0850e-02, -6.0276e-02, -1.0915e-01,  1.1842e-01, -1.1369e-01,\n",
              "          8.6354e-02,  8.2161e-02, -1.2788e-02,  7.1555e-02,  1.0076e-01, -1.0959e-01,  4.9058e-02, -3.0789e-02,\n",
              "          3.0716e-02,  5.7566e-03, -2.1018e-02, -9.9677e-02, -1.2561e-02,  3.8434e-02, -3.1395e-02,  6.0187e-02,\n",
              "         -1.5747e-03,  3.5264e-02, -4.4728e-02, -1.3504e-02,  4.1653e-02, -7.4199e-02,  8.3426e-02, -5.2411e-02,\n",
              "         -1.0644e-01,  1.0287e-01,  5.9392e-03, -4.1417e-02],\n",
              "        [-6.1211e-02, -1.1178e-01, -6.0336e-02,  1.0470e-01, -5.9051e-02,  1.9745e-02,  6.8104e-03, -2.2173e-02,\n",
              "         -6.9841e-02,  5.9679e-02, -9.9125e-02,  1.1543e-01, -5.9246e-02, -5.0556e-02,  7.9360e-02,  4.3199e-03,\n",
              "         -1.1939e-01, -1.2719e-03, -7.2792e-02,  8.5068e-02, -1.2728e-01, -1.3905e-02,  3.1995e-02, -9.7959e-02,\n",
              "          7.2763e-02,  3.7507e-02,  3.1052e-03,  7.2243e-02, -4.3751e-02, -9.3864e-02,  1.0833e-01, -3.2319e-02,\n",
              "         -2.7518e-02,  1.8118e-02, -1.2376e-01,  1.1948e-01, -3.5431e-02,  4.7742e-02, -3.0858e-02, -8.2340e-02,\n",
              "         -9.4508e-02,  2.7600e-02,  1.0797e-02,  7.9414e-02, -1.1765e-01, -9.0184e-02,  9.5013e-02, -5.2932e-02,\n",
              "          5.2384e-02, -3.6006e-02,  6.9719e-02,  1.0992e-01,  6.7024e-02, -9.5597e-02,  8.0641e-02, -3.7573e-02,\n",
              "         -7.3445e-02, -3.5018e-02, -8.2033e-02,  9.0312e-02],\n",
              "        [-7.8344e-02,  4.9986e-02, -2.9416e-02, -9.1203e-02,  7.8122e-02,  5.1064e-02,  3.9130e-02, -1.1703e-01,\n",
              "          7.7284e-02, -6.6917e-02,  1.2579e-01,  8.5513e-02,  1.0851e-01,  1.1618e-01,  4.1447e-02,  2.8937e-02,\n",
              "         -8.2263e-02, -7.3077e-02, -1.2872e-01, -9.0820e-02, -3.3725e-02, -1.0888e-01,  1.1971e-01,  1.4587e-02,\n",
              "          9.1219e-02,  8.3053e-02, -4.6538e-02, -5.1525e-02, -1.8871e-02, -3.8006e-02, -1.0722e-01,  5.3171e-02,\n",
              "         -8.9977e-02, -5.8641e-03, -3.8261e-02, -2.9824e-02, -8.7716e-02, -1.6360e-02, -7.6341e-02,  3.8704e-02,\n",
              "          9.9571e-02,  6.8829e-02, -3.9958e-02,  3.8884e-03, -8.8715e-02,  7.2003e-02,  6.4633e-02, -7.6841e-02,\n",
              "          9.3033e-02,  1.0605e-02, -5.0764e-02, -7.8503e-03,  8.3244e-02, -1.2609e-01,  8.3729e-03, -1.9158e-02,\n",
              "          7.4661e-02, -5.7145e-02, -2.9177e-02, -3.9837e-02],\n",
              "        [-4.0525e-02, -2.4632e-03,  1.1648e-01,  7.6166e-02,  1.2059e-01, -9.5605e-02, -5.0578e-02,  1.0871e-01,\n",
              "          1.0445e-01,  2.7940e-02,  4.4116e-02, -7.8978e-04,  1.2132e-01, -1.3328e-02,  9.9344e-02,  4.1808e-02,\n",
              "         -1.2352e-01, -3.3093e-02, -5.8659e-02, -7.3526e-02, -1.1473e-01,  1.8136e-02,  5.4584e-02, -9.6897e-02,\n",
              "          7.2434e-02, -1.0728e-02, -1.9315e-02, -2.4915e-02,  3.6524e-02, -7.2164e-02, -1.0537e-01,  7.9447e-02,\n",
              "         -1.5818e-02,  4.4213e-02,  1.2037e-01, -1.1126e-01,  8.3977e-02,  9.8374e-02, -4.9716e-02, -5.9558e-02,\n",
              "         -1.1988e-01, -6.0668e-03, -5.0854e-02,  7.6903e-03, -1.9328e-02,  1.1075e-01, -8.4721e-02, -6.6084e-02,\n",
              "         -1.4737e-02,  2.3366e-03,  4.3245e-02,  6.6978e-02, -1.2803e-01, -5.6479e-02, -8.5616e-02,  6.9019e-02,\n",
              "          1.1303e-01,  1.1689e-01,  2.4372e-02,  5.4244e-02],\n",
              "        [-9.2589e-02,  2.7666e-02, -4.1576e-02,  1.0121e-01, -8.0926e-02,  5.4758e-02,  7.1717e-02, -5.6726e-03,\n",
              "          3.8815e-02,  2.7828e-02,  6.1157e-02, -3.3422e-02,  8.1466e-02,  6.7534e-02, -5.1541e-02, -4.0051e-02,\n",
              "         -1.1975e-01, -8.1339e-02,  1.2292e-01, -8.1162e-02,  3.2309e-02,  2.2285e-02,  1.5166e-02, -1.2165e-01,\n",
              "         -5.7778e-02, -2.9748e-03, -6.8287e-02, -7.4302e-02,  9.9766e-02,  6.5036e-02,  8.9573e-02,  1.0840e-01,\n",
              "         -4.0272e-02,  1.0263e-01,  1.6090e-02,  3.0281e-02,  1.1646e-01,  8.4433e-02,  5.5534e-02, -8.1476e-02,\n",
              "          8.7158e-02,  9.2956e-02,  4.2496e-03,  1.1577e-01,  3.3260e-02,  3.0138e-02, -6.0924e-02,  1.1198e-01,\n",
              "          1.7691e-02,  1.1182e-02, -1.9577e-02,  5.4529e-02, -8.1901e-02, -9.1068e-02,  1.1375e-01, -3.5503e-02,\n",
              "          1.1931e-01, -8.2167e-02, -1.3330e-02, -5.8219e-03],\n",
              "        [ 3.5908e-02, -1.0723e-01,  9.5786e-02, -2.6771e-02, -1.1859e-02, -1.2579e-01,  6.1628e-02, -5.1287e-02,\n",
              "          2.5842e-02,  6.2948e-02,  7.4992e-02,  8.5897e-02, -1.1336e-01,  6.6641e-02, -1.4734e-03,  2.5056e-04,\n",
              "         -3.2261e-02,  1.2688e-01, -1.1025e-01,  9.2818e-02, -1.1858e-01, -1.2307e-01, -1.1378e-01,  5.4301e-02,\n",
              "          9.2500e-02, -2.0578e-02, -1.1892e-02,  8.3513e-02, -6.9424e-02,  8.2425e-02, -2.4431e-02,  8.3877e-02,\n",
              "         -7.4945e-02, -1.2073e-02, -4.8414e-03,  3.4598e-02,  1.2647e-01, -2.1694e-02,  9.4620e-02, -3.2421e-02,\n",
              "         -6.1372e-02,  9.0062e-02,  7.5510e-02, -1.2363e-01,  5.8152e-02, -4.0653e-02,  5.2280e-02, -1.8929e-02,\n",
              "         -9.9903e-02, -1.2082e-01,  7.0541e-02,  8.9598e-02, -7.1442e-03,  8.3300e-02, -8.0409e-02,  3.8233e-02,\n",
              "         -1.7764e-02,  3.8598e-02,  8.5028e-03,  6.5719e-02]], requires_grad=True)"
            ]
          },
          "metadata": {
            "tags": []
          },
          "execution_count": 37
        }
      ]
    },
    {
      "cell_type": "code",
      "metadata": {
        "id": "0EcFw6wZNV80",
        "colab_type": "code",
        "colab": {
          "base_uri": "https://localhost:8080/",
          "height": 102
        },
        "outputId": "3ecfab20-5f23-40d8-ce66-3c50bf3ac1ec"
      },
      "source": [
        "print(cnn.conv1.weight.shape)\n",
        "print(cnn.conv2.weight.shape)\n",
        "print(cnn.fc1.weight.shape)\n",
        "print(cnn.fc2.weight.shape)\n",
        "print(cnn.out.weight.shape)"
      ],
      "execution_count": 38,
      "outputs": [
        {
          "output_type": "stream",
          "text": [
            "torch.Size([6, 1, 5, 5])\n",
            "torch.Size([12, 6, 5, 5])\n",
            "torch.Size([120, 192])\n",
            "torch.Size([60, 120])\n",
            "torch.Size([10, 60])\n"
          ],
          "name": "stdout"
        }
      ]
    },
    {
      "cell_type": "markdown",
      "metadata": {
        "id": "hhuRvCQ7kEiV",
        "colab_type": "text"
      },
      "source": [
        "#Forward Pass"
      ]
    },
    {
      "cell_type": "code",
      "metadata": {
        "id": "EbNY5JhJaj7c",
        "colab_type": "code",
        "colab": {
          "base_uri": "https://localhost:8080/",
          "height": 34
        },
        "outputId": "42d051c5-efdd-404d-c6ff-993fa7e3d0ba"
      },
      "source": [
        "torch.set_grad_enabled(False)"
      ],
      "execution_count": 29,
      "outputs": [
        {
          "output_type": "execute_result",
          "data": {
            "text/plain": [
              "<torch.autograd.grad_mode.set_grad_enabled at 0x7ff72f3f5e80>"
            ]
          },
          "metadata": {
            "tags": []
          },
          "execution_count": 29
        }
      ]
    },
    {
      "cell_type": "markdown",
      "metadata": {
        "id": "lueQPKRBkQjk",
        "colab_type": "text"
      },
      "source": [
        "##Passing a single image"
      ]
    },
    {
      "cell_type": "code",
      "metadata": {
        "id": "iNTTo-OpfKuz",
        "colab_type": "code",
        "colab": {}
      },
      "source": [
        "image, label = sample"
      ],
      "execution_count": 0,
      "outputs": []
    },
    {
      "cell_type": "code",
      "metadata": {
        "id": "OoOnYcbYfW8E",
        "colab_type": "code",
        "colab": {
          "base_uri": "https://localhost:8080/",
          "height": 34
        },
        "outputId": "4110760a-eb42-4734-89d5-6d3eea62cf76"
      },
      "source": [
        "image.unsqueeze(0).shape"
      ],
      "execution_count": 40,
      "outputs": [
        {
          "output_type": "execute_result",
          "data": {
            "text/plain": [
              "torch.Size([1, 1, 28, 28])"
            ]
          },
          "metadata": {
            "tags": []
          },
          "execution_count": 40
        }
      ]
    },
    {
      "cell_type": "code",
      "metadata": {
        "id": "bsuqIXgzfvwi",
        "colab_type": "code",
        "colab": {}
      },
      "source": [
        "pred = cnn(image.unsqueeze(0))"
      ],
      "execution_count": 0,
      "outputs": []
    },
    {
      "cell_type": "code",
      "metadata": {
        "id": "gneOrWSUgC0_",
        "colab_type": "code",
        "colab": {
          "base_uri": "https://localhost:8080/",
          "height": 34
        },
        "outputId": "1fe664bf-a102-45d5-c1ff-29c860f432df"
      },
      "source": [
        "pred.shape"
      ],
      "execution_count": 42,
      "outputs": [
        {
          "output_type": "execute_result",
          "data": {
            "text/plain": [
              "torch.Size([1, 10])"
            ]
          },
          "metadata": {
            "tags": []
          },
          "execution_count": 42
        }
      ]
    },
    {
      "cell_type": "code",
      "metadata": {
        "id": "wtEUN5ZlhcO2",
        "colab_type": "code",
        "colab": {
          "base_uri": "https://localhost:8080/",
          "height": 34
        },
        "outputId": "37756a0f-8d98-4b84-a871-8a2f96a11ad5"
      },
      "source": [
        "pred"
      ],
      "execution_count": 43,
      "outputs": [
        {
          "output_type": "execute_result",
          "data": {
            "text/plain": [
              "tensor([[ 0.0492, -0.0045,  0.0841,  0.0738,  0.0796,  0.1067,  0.0579,  0.0329,  0.1265, -0.1061]])"
            ]
          },
          "metadata": {
            "tags": []
          },
          "execution_count": 43
        }
      ]
    },
    {
      "cell_type": "code",
      "metadata": {
        "id": "3aD02BLrhpho",
        "colab_type": "code",
        "colab": {
          "base_uri": "https://localhost:8080/",
          "height": 51
        },
        "outputId": "d7ff94f2-2772-4776-906d-73acc07148d9"
      },
      "source": [
        "print(\"Actual label :\", label)\n",
        "print(\"Prdicted label :\", pred.argmax(dim=1).item())"
      ],
      "execution_count": 63,
      "outputs": [
        {
          "output_type": "stream",
          "text": [
            "Actual label : 9\n",
            "Prdicted label : 8\n"
          ],
          "name": "stdout"
        }
      ]
    },
    {
      "cell_type": "code",
      "metadata": {
        "id": "2fZ96727iFj4",
        "colab_type": "code",
        "colab": {
          "base_uri": "https://localhost:8080/",
          "height": 34
        },
        "outputId": "2bb17182-40dd-4ea2-fb28-034450a2bdaa"
      },
      "source": [
        "F.softmax(pred,  dim=1)"
      ],
      "execution_count": 48,
      "outputs": [
        {
          "output_type": "execute_result",
          "data": {
            "text/plain": [
              "tensor([[0.0997, 0.0945, 0.1033, 0.1022, 0.1028, 0.1056, 0.1006, 0.0981, 0.1077, 0.0854]])"
            ]
          },
          "metadata": {
            "tags": []
          },
          "execution_count": 48
        }
      ]
    },
    {
      "cell_type": "markdown",
      "metadata": {
        "id": "4HM9c_J1kedL",
        "colab_type": "text"
      },
      "source": [
        "##Passing a batch of image"
      ]
    },
    {
      "cell_type": "code",
      "metadata": {
        "id": "hTDrXvsvi1xc",
        "colab_type": "code",
        "colab": {}
      },
      "source": [
        "images, labels = batch"
      ],
      "execution_count": 0,
      "outputs": []
    },
    {
      "cell_type": "code",
      "metadata": {
        "id": "5QB6wd1fje8o",
        "colab_type": "code",
        "colab": {}
      },
      "source": [
        "preds = cnn(images)"
      ],
      "execution_count": 0,
      "outputs": []
    },
    {
      "cell_type": "code",
      "metadata": {
        "id": "FP6yWPUgjs_f",
        "colab_type": "code",
        "colab": {
          "base_uri": "https://localhost:8080/",
          "height": 1000
        },
        "outputId": "89870bd2-61c0-4525-998a-6a5b1899c2d2"
      },
      "source": [
        "preds"
      ],
      "execution_count": 52,
      "outputs": [
        {
          "output_type": "execute_result",
          "data": {
            "text/plain": [
              "tensor([[ 4.9184e-02, -4.4579e-03,  8.4142e-02,  7.3764e-02,  7.9579e-02,  1.0670e-01,  5.7920e-02,  3.2889e-02,\n",
              "          1.2648e-01, -1.0613e-01],\n",
              "        [ 5.0839e-02, -7.5838e-03,  8.7134e-02,  7.5175e-02,  6.9663e-02,  9.6608e-02,  5.0810e-02,  2.8953e-02,\n",
              "          1.4080e-01, -1.1163e-01],\n",
              "        [ 5.3424e-02, -5.7494e-03,  8.0829e-02,  7.2734e-02,  8.4298e-02,  1.1330e-01,  5.2013e-02,  3.2006e-02,\n",
              "          1.2595e-01, -1.0582e-01],\n",
              "        [ 5.1486e-02, -6.6613e-03,  8.6288e-02,  7.3170e-02,  8.0776e-02,  1.0752e-01,  5.3960e-02,  3.3872e-02,\n",
              "          1.2904e-01, -1.0579e-01],\n",
              "        [ 5.6181e-02, -5.4015e-03,  8.8194e-02,  6.9946e-02,  7.4130e-02,  9.8326e-02,  4.7978e-02,  2.9084e-02,\n",
              "          1.4092e-01, -1.0708e-01],\n",
              "        [ 4.6017e-02, -3.0714e-03,  8.7538e-02,  6.8665e-02,  7.1661e-02,  9.7776e-02,  5.5068e-02,  3.5411e-02,\n",
              "          1.3507e-01, -1.0426e-01],\n",
              "        [ 5.3120e-02, -4.0110e-03,  8.2846e-02,  6.9350e-02,  7.8875e-02,  1.0125e-01,  6.0111e-02,  2.9907e-02,\n",
              "          1.3090e-01, -1.0859e-01],\n",
              "        [ 5.1416e-02, -1.5303e-03,  8.6041e-02,  6.5985e-02,  7.0173e-02,  9.0916e-02,  6.1326e-02,  3.6139e-02,\n",
              "          1.3008e-01, -1.0688e-01],\n",
              "        [ 5.7430e-02,  1.5502e-03,  8.1199e-02,  6.7208e-02,  8.6705e-02,  1.0743e-01,  5.6625e-02,  3.0112e-02,\n",
              "          1.2256e-01, -1.1007e-01],\n",
              "        [ 4.8375e-02, -3.4297e-03,  7.8027e-02,  6.8234e-02,  8.6887e-02,  1.1240e-01,  6.1260e-02,  3.5252e-02,\n",
              "          1.1653e-01, -1.0805e-01],\n",
              "        [ 4.9498e-02, -7.4559e-03,  8.6993e-02,  7.2962e-02,  7.3689e-02,  1.0206e-01,  5.2110e-02,  3.4226e-02,\n",
              "          1.3406e-01, -1.0760e-01],\n",
              "        [ 4.5361e-02, -3.2169e-03,  8.6577e-02,  7.4466e-02,  7.8284e-02,  1.0003e-01,  6.5938e-02,  3.6503e-02,\n",
              "          1.3217e-01, -1.0885e-01],\n",
              "        [ 5.4079e-02,  3.6100e-03,  7.5843e-02,  6.4576e-02,  7.4787e-02,  1.0154e-01,  5.7220e-02,  3.4903e-02,\n",
              "          1.2966e-01, -1.0548e-01],\n",
              "        [ 5.4339e-02,  2.3853e-03,  8.1754e-02,  6.5350e-02,  8.9198e-02,  1.0425e-01,  5.8049e-02,  3.4193e-02,\n",
              "          1.2259e-01, -1.1172e-01],\n",
              "        [ 5.3633e-02,  7.5121e-04,  8.3155e-02,  7.0377e-02,  8.3971e-02,  1.0161e-01,  5.5025e-02,  3.1131e-02,\n",
              "          1.2831e-01, -1.1404e-01],\n",
              "        [ 4.8105e-02, -4.4542e-03,  8.6298e-02,  7.5512e-02,  7.8722e-02,  9.9095e-02,  6.3253e-02,  3.0718e-02,\n",
              "          1.2740e-01, -1.0857e-01],\n",
              "        [ 5.4718e-02, -6.9756e-03,  8.8315e-02,  7.1782e-02,  7.6509e-02,  1.0150e-01,  5.3416e-02,  3.1585e-02,\n",
              "          1.3340e-01, -1.0748e-01],\n",
              "        [ 5.1049e-02, -7.6775e-03,  8.8380e-02,  7.2988e-02,  7.3450e-02,  9.7209e-02,  5.0328e-02,  3.0675e-02,\n",
              "          1.3718e-01, -1.1072e-01],\n",
              "        [ 4.6413e-02, -6.5253e-03,  8.5869e-02,  7.3377e-02,  7.4192e-02,  1.0462e-01,  5.8443e-02,  3.6181e-02,\n",
              "          1.2588e-01, -1.0367e-01],\n",
              "        [ 5.3936e-02, -4.1705e-03,  8.0452e-02,  7.0254e-02,  8.4389e-02,  1.1218e-01,  5.4106e-02,  3.1624e-02,\n",
              "          1.2442e-01, -1.0521e-01],\n",
              "        [ 4.9978e-02, -5.4353e-03,  9.1461e-02,  7.1402e-02,  7.3955e-02,  9.6082e-02,  5.2410e-02,  3.4715e-02,\n",
              "          1.3925e-01, -1.0592e-01],\n",
              "        [ 5.8729e-02, -4.3705e-03,  8.5910e-02,  7.2138e-02,  7.1823e-02,  9.7867e-02,  5.2823e-02,  3.0953e-02,\n",
              "          1.4108e-01, -1.0748e-01],\n",
              "        [ 5.1473e-02, -9.6157e-03,  8.5630e-02,  7.8451e-02,  7.3027e-02,  1.0673e-01,  5.7289e-02,  3.0932e-02,\n",
              "          1.2729e-01, -1.0117e-01],\n",
              "        [ 4.8333e-02, -1.7651e-03,  8.5482e-02,  7.4483e-02,  7.6584e-02,  1.0425e-01,  5.2534e-02,  3.1742e-02,\n",
              "          1.2626e-01, -1.0741e-01],\n",
              "        [ 4.5116e-02, -3.3925e-03,  8.4649e-02,  7.0922e-02,  6.8592e-02,  9.6806e-02,  5.8529e-02,  3.6635e-02,\n",
              "          1.3080e-01, -1.0483e-01],\n",
              "        [ 5.8513e-02,  1.9343e-03,  8.1477e-02,  6.7187e-02,  6.8694e-02,  9.2673e-02,  5.5708e-02,  3.2934e-02,\n",
              "          1.4061e-01, -1.0974e-01],\n",
              "        [ 5.0755e-02, -2.4317e-03,  8.5927e-02,  6.4614e-02,  7.4408e-02,  9.5278e-02,  5.3073e-02,  3.6768e-02,\n",
              "          1.3376e-01, -1.0883e-01],\n",
              "        [ 4.7723e-02, -2.7983e-03,  8.7076e-02,  6.6772e-02,  7.1818e-02,  9.4454e-02,  5.8391e-02,  3.6640e-02,\n",
              "          1.3123e-01, -1.0618e-01],\n",
              "        [ 4.9559e-02, -6.1655e-03,  8.2488e-02,  7.7658e-02,  7.3246e-02,  1.0750e-01,  5.6831e-02,  3.1519e-02,\n",
              "          1.2403e-01, -1.0507e-01],\n",
              "        [ 4.8360e-02, -4.4692e-03,  8.3119e-02,  7.5088e-02,  6.9716e-02,  9.9999e-02,  5.7985e-02,  3.5318e-02,\n",
              "          1.2857e-01, -1.0477e-01],\n",
              "        [ 5.6678e-02, -2.7845e-03,  7.8655e-02,  6.3055e-02,  9.1368e-02,  1.0451e-01,  5.5992e-02,  3.1397e-02,\n",
              "          1.2056e-01, -1.1202e-01],\n",
              "        [ 5.3692e-02, -6.5867e-03,  8.2982e-02,  7.2325e-02,  8.2550e-02,  1.0989e-01,  5.1443e-02,  3.2067e-02,\n",
              "          1.2956e-01, -1.0637e-01],\n",
              "        [ 4.8191e-02, -4.3203e-03,  8.5450e-02,  7.3056e-02,  7.3727e-02,  1.0376e-01,  5.6477e-02,  3.5442e-02,\n",
              "          1.2932e-01, -1.0448e-01],\n",
              "        [ 5.6466e-02, -4.7919e-03,  7.9893e-02,  6.7371e-02,  8.9407e-02,  1.1566e-01,  5.3030e-02,  2.9480e-02,\n",
              "          1.2205e-01, -1.0767e-01],\n",
              "        [ 5.5272e-02, -4.8191e-03,  7.9986e-02,  6.7161e-02,  8.6793e-02,  1.1244e-01,  5.4188e-02,  2.9772e-02,\n",
              "          1.2188e-01, -1.0777e-01],\n",
              "        [ 4.8954e-02, -6.6578e-03,  8.2766e-02,  7.4127e-02,  8.6398e-02,  1.1131e-01,  5.6796e-02,  3.0189e-02,\n",
              "          1.2197e-01, -1.0997e-01],\n",
              "        [ 4.3826e-02, -5.7858e-03,  8.1285e-02,  7.5148e-02,  8.4830e-02,  1.1127e-01,  5.9201e-02,  3.4354e-02,\n",
              "          1.1735e-01, -1.1547e-01],\n",
              "        [ 5.0346e-02, -4.6247e-03,  8.3223e-02,  7.3326e-02,  7.9943e-02,  1.1030e-01,  5.3114e-02,  3.5133e-02,\n",
              "          1.2701e-01, -1.0431e-01],\n",
              "        [ 6.0042e-02,  1.1394e-05,  9.0903e-02,  6.3758e-02,  7.8685e-02,  9.3305e-02,  5.3379e-02,  3.2032e-02,\n",
              "          1.4006e-01, -1.1254e-01],\n",
              "        [ 4.5076e-02, -2.7183e-03,  8.3277e-02,  7.1328e-02,  6.7350e-02,  9.7405e-02,  5.8245e-02,  3.7079e-02,\n",
              "          1.3302e-01, -1.0317e-01],\n",
              "        [ 4.8369e-02, -3.2376e-03,  8.3928e-02,  7.1906e-02,  7.1638e-02,  1.0006e-01,  5.6165e-02,  3.7223e-02,\n",
              "          1.2939e-01, -1.0532e-01],\n",
              "        [ 4.9732e-02, -1.2913e-03,  8.5621e-02,  6.9854e-02,  8.2331e-02,  9.8803e-02,  6.1061e-02,  3.3076e-02,\n",
              "          1.2758e-01, -1.0965e-01],\n",
              "        [ 4.6408e-02, -3.9785e-03,  8.5404e-02,  6.9988e-02,  8.0308e-02,  9.5910e-02,  6.3038e-02,  3.2815e-02,\n",
              "          1.3061e-01, -1.1183e-01],\n",
              "        [ 5.5868e-02, -1.3772e-03,  8.4094e-02,  6.5472e-02,  8.4434e-02,  1.0277e-01,  5.6753e-02,  3.2030e-02,\n",
              "          1.2268e-01, -1.1088e-01],\n",
              "        [ 4.8858e-02, -6.6492e-03,  8.7095e-02,  6.7510e-02,  7.7173e-02,  9.7705e-02,  6.1099e-02,  3.7170e-02,\n",
              "          1.2567e-01, -1.0548e-01],\n",
              "        [ 4.6178e-02, -5.8583e-03,  8.5740e-02,  7.1998e-02,  7.4622e-02,  1.0621e-01,  5.8026e-02,  3.6884e-02,\n",
              "          1.2697e-01, -1.0403e-01],\n",
              "        [ 5.2655e-02, -1.6093e-03,  8.4000e-02,  7.1310e-02,  8.2041e-02,  1.0273e-01,  5.9298e-02,  2.6593e-02,\n",
              "          1.2842e-01, -1.1169e-01],\n",
              "        [ 5.4222e-02, -1.2818e-03,  8.3643e-02,  7.0865e-02,  7.1792e-02,  9.6408e-02,  4.9669e-02,  3.2342e-02,\n",
              "          1.3695e-01, -1.1016e-01],\n",
              "        [ 4.7701e-02, -6.1512e-03,  8.6991e-02,  7.1521e-02,  7.4853e-02,  1.0043e-01,  5.2901e-02,  3.4296e-02,\n",
              "          1.2968e-01, -1.0935e-01],\n",
              "        [ 5.3637e-02, -1.2801e-03,  8.4152e-02,  7.4830e-02,  6.9010e-02,  9.5477e-02,  5.6242e-02,  2.9910e-02,\n",
              "          1.3889e-01, -1.0784e-01],\n",
              "        [ 5.1153e-02, -7.5090e-03,  9.0514e-02,  7.0144e-02,  7.6109e-02,  1.0177e-01,  5.0899e-02,  3.2268e-02,\n",
              "          1.3755e-01, -1.0669e-01],\n",
              "        [ 5.3045e-02, -4.7018e-03,  9.0932e-02,  6.9372e-02,  7.6691e-02,  9.9421e-02,  5.2572e-02,  3.3057e-02,\n",
              "          1.3910e-01, -1.0435e-01],\n",
              "        [ 4.8734e-02, -5.4557e-03,  8.3189e-02,  7.1513e-02,  7.8500e-02,  1.0318e-01,  5.6497e-02,  2.9701e-02,\n",
              "          1.3033e-01, -1.1212e-01],\n",
              "        [ 4.7213e-02, -3.0190e-03,  8.5437e-02,  7.0211e-02,  6.7850e-02,  9.3808e-02,  5.9346e-02,  3.6145e-02,\n",
              "          1.3373e-01, -1.0514e-01],\n",
              "        [ 5.1725e-02, -6.5686e-03,  8.0890e-02,  7.2984e-02,  8.2108e-02,  1.1257e-01,  5.6180e-02,  3.2102e-02,\n",
              "          1.2241e-01, -1.0520e-01],\n",
              "        [ 4.6225e-02, -5.6398e-03,  8.8686e-02,  7.6432e-02,  7.2586e-02,  1.0053e-01,  5.4501e-02,  3.3955e-02,\n",
              "          1.3368e-01, -1.0669e-01],\n",
              "        [ 5.0883e-02, -5.8183e-04,  8.8704e-02,  6.9626e-02,  7.3369e-02,  8.9032e-02,  5.6829e-02,  3.1266e-02,\n",
              "          1.3819e-01, -1.1299e-01],\n",
              "        [ 5.2163e-02, -8.1057e-03,  8.4088e-02,  7.5711e-02,  7.6620e-02,  1.0247e-01,  5.7843e-02,  2.8804e-02,\n",
              "          1.2988e-01, -1.0724e-01],\n",
              "        [ 5.3519e-02, -4.5785e-03,  8.9781e-02,  7.0130e-02,  7.4962e-02,  9.8490e-02,  5.0042e-02,  3.2352e-02,\n",
              "          1.4204e-01, -1.0674e-01],\n",
              "        [ 5.3783e-02, -1.9848e-03,  8.9109e-02,  6.8627e-02,  7.4408e-02,  9.8307e-02,  5.3193e-02,  3.3997e-02,\n",
              "          1.3925e-01, -1.0835e-01],\n",
              "        [ 4.7784e-02, -2.2083e-03,  8.2450e-02,  7.5095e-02,  7.8859e-02,  1.0422e-01,  6.5892e-02,  3.2434e-02,\n",
              "          1.2191e-01, -1.1085e-01],\n",
              "        [ 5.0297e-02, -6.4229e-03,  8.6624e-02,  7.2513e-02,  7.6078e-02,  1.0184e-01,  6.0020e-02,  3.3934e-02,\n",
              "          1.2933e-01, -1.0612e-01],\n",
              "        [ 5.4567e-02,  1.1101e-03,  7.7973e-02,  6.6184e-02,  8.8890e-02,  1.0568e-01,  5.5102e-02,  3.4228e-02,\n",
              "          1.2029e-01, -1.1342e-01],\n",
              "        [ 5.7363e-02,  3.4060e-03,  7.2591e-02,  5.9567e-02,  8.6878e-02,  1.0750e-01,  5.3576e-02,  3.4412e-02,\n",
              "          1.2339e-01, -1.1061e-01],\n",
              "        [ 4.9808e-02, -6.5729e-03,  8.4237e-02,  6.9628e-02,  7.2743e-02,  9.9065e-02,  5.3498e-02,  3.1958e-02,\n",
              "          1.3958e-01, -1.0784e-01],\n",
              "        [ 4.6675e-02, -4.2008e-03,  8.6388e-02,  7.1848e-02,  7.4768e-02,  1.0243e-01,  5.5308e-02,  3.5948e-02,\n",
              "          1.2661e-01, -1.0669e-01],\n",
              "        [ 4.7300e-02, -7.8973e-03,  8.6937e-02,  7.5064e-02,  6.9913e-02,  9.7401e-02,  5.0826e-02,  3.1909e-02,\n",
              "          1.3668e-01, -1.0991e-01],\n",
              "        [ 5.2254e-02, -6.1468e-03,  8.8264e-02,  7.1347e-02,  7.5387e-02,  9.9818e-02,  5.4984e-02,  3.0569e-02,\n",
              "          1.3550e-01, -1.0792e-01],\n",
              "        [ 4.9898e-02, -3.9261e-03,  8.2677e-02,  7.2783e-02,  7.3592e-02,  1.0362e-01,  5.8491e-02,  3.5312e-02,\n",
              "          1.2560e-01, -1.0373e-01],\n",
              "        [ 5.5772e-02, -1.8384e-03,  8.4120e-02,  6.7299e-02,  7.8174e-02,  9.9413e-02,  5.3334e-02,  3.3994e-02,\n",
              "          1.3678e-01, -1.1039e-01],\n",
              "        [ 4.6411e-02, -7.5206e-03,  8.8904e-02,  7.2748e-02,  7.2069e-02,  9.8838e-02,  5.9231e-02,  3.4465e-02,\n",
              "          1.3890e-01, -1.0275e-01],\n",
              "        [ 6.2715e-02, -1.2101e-03,  8.7112e-02,  6.5769e-02,  7.7451e-02,  9.4956e-02,  5.3017e-02,  3.1188e-02,\n",
              "          1.3932e-01, -1.1162e-01],\n",
              "        [ 5.2953e-02, -4.6575e-03,  8.3158e-02,  7.2900e-02,  7.7921e-02,  1.0548e-01,  5.4939e-02,  3.3117e-02,\n",
              "          1.2733e-01, -1.0782e-01],\n",
              "        [ 5.0912e-02, -8.0757e-03,  9.2094e-02,  7.5878e-02,  7.4638e-02,  1.0190e-01,  5.1542e-02,  3.0068e-02,\n",
              "          1.4205e-01, -1.0499e-01],\n",
              "        [ 5.9117e-02,  8.9052e-04,  8.9330e-02,  6.4392e-02,  7.8326e-02,  9.5453e-02,  5.3354e-02,  3.2485e-02,\n",
              "          1.3910e-01, -1.1249e-01],\n",
              "        [ 5.0135e-02, -2.0852e-03,  8.5886e-02,  7.0682e-02,  6.8737e-02,  9.0979e-02,  5.9328e-02,  3.2281e-02,\n",
              "          1.3498e-01, -1.0602e-01],\n",
              "        [ 5.4742e-02, -2.0120e-03,  8.7104e-02,  7.2306e-02,  7.0461e-02,  9.5199e-02,  5.8668e-02,  3.1446e-02,\n",
              "          1.3635e-01, -1.0666e-01],\n",
              "        [ 5.0186e-02,  6.3627e-04,  8.5733e-02,  7.2559e-02,  7.3861e-02,  1.0295e-01,  5.4290e-02,  3.5860e-02,\n",
              "          1.2728e-01, -1.0486e-01],\n",
              "        [ 6.0161e-02,  2.1586e-03,  8.6929e-02,  6.5469e-02,  8.2167e-02,  1.0021e-01,  5.2066e-02,  3.1733e-02,\n",
              "          1.3457e-01, -1.1051e-01],\n",
              "        [ 5.1231e-02, -3.5905e-03,  8.7148e-02,  6.8682e-02,  7.8723e-02,  1.0077e-01,  6.0257e-02,  3.5130e-02,\n",
              "          1.2731e-01, -1.0718e-01],\n",
              "        [ 5.9855e-02, -4.3791e-03,  8.6319e-02,  6.7016e-02,  7.0249e-02,  9.1172e-02,  5.2182e-02,  3.0677e-02,\n",
              "          1.4255e-01, -1.1058e-01],\n",
              "        [ 5.5733e-02, -1.7471e-03,  8.2763e-02,  6.5396e-02,  8.3647e-02,  1.0842e-01,  4.9532e-02,  3.2987e-02,\n",
              "          1.2835e-01, -1.0586e-01],\n",
              "        [ 5.6552e-02,  1.7956e-03,  7.9818e-02,  6.3786e-02,  8.8000e-02,  1.0610e-01,  5.7900e-02,  3.2574e-02,\n",
              "          1.2051e-01, -1.1107e-01],\n",
              "        [ 5.1683e-02, -3.8591e-03,  8.2734e-02,  7.0839e-02,  8.0008e-02,  1.0500e-01,  5.7670e-02,  2.6949e-02,\n",
              "          1.2841e-01, -1.0817e-01],\n",
              "        [ 4.7407e-02, -2.5673e-03,  8.4458e-02,  7.2175e-02,  7.9705e-02,  1.0500e-01,  5.7089e-02,  3.6380e-02,\n",
              "          1.2798e-01, -1.0620e-01],\n",
              "        [ 5.2295e-02, -3.0221e-03,  8.2364e-02,  6.9737e-02,  8.2536e-02,  1.0506e-01,  5.7324e-02,  3.0163e-02,\n",
              "          1.2587e-01, -1.0804e-01],\n",
              "        [ 6.0547e-02, -3.6869e-04,  8.7197e-02,  6.6886e-02,  7.4001e-02,  9.4750e-02,  5.3260e-02,  3.3072e-02,\n",
              "          1.4047e-01, -1.1058e-01],\n",
              "        [ 5.3232e-02, -2.3307e-03,  8.3677e-02,  7.3798e-02,  8.1584e-02,  1.0430e-01,  5.8509e-02,  2.9818e-02,\n",
              "          1.2912e-01, -1.1088e-01],\n",
              "        [ 5.0594e-02,  3.4528e-04,  8.5855e-02,  7.0157e-02,  7.6617e-02,  9.9926e-02,  5.8207e-02,  3.8635e-02,\n",
              "          1.3401e-01, -1.0818e-01],\n",
              "        [ 4.6735e-02, -9.0857e-03,  8.3635e-02,  7.3299e-02,  7.9460e-02,  1.0478e-01,  5.8298e-02,  3.1443e-02,\n",
              "          1.2289e-01, -1.0831e-01],\n",
              "        [ 4.8967e-02, -2.7163e-03,  8.3204e-02,  7.1734e-02,  8.3641e-02,  1.0585e-01,  5.7869e-02,  3.5022e-02,\n",
              "          1.2111e-01, -1.0876e-01],\n",
              "        [ 5.3334e-02, -5.0234e-03,  8.8115e-02,  7.5104e-02,  8.1222e-02,  1.0463e-01,  5.5025e-02,  2.9948e-02,\n",
              "          1.3007e-01, -1.0650e-01],\n",
              "        [ 5.3452e-02, -1.6158e-03,  8.4547e-02,  7.1231e-02,  8.2165e-02,  1.0649e-01,  5.6067e-02,  3.0020e-02,\n",
              "          1.2780e-01, -1.0819e-01],\n",
              "        [ 4.8221e-02, -1.4277e-03,  8.3213e-02,  7.1854e-02,  7.7858e-02,  9.7891e-02,  6.4840e-02,  3.1247e-02,\n",
              "          1.2823e-01, -1.1117e-01],\n",
              "        [ 5.2611e-02, -1.7847e-03,  8.8911e-02,  6.9614e-02,  7.6987e-02,  9.5532e-02,  5.4423e-02,  3.5064e-02,\n",
              "          1.3413e-01, -1.0905e-01],\n",
              "        [ 4.7898e-02, -5.5394e-03,  8.3919e-02,  7.4552e-02,  7.5485e-02,  1.0616e-01,  5.8944e-02,  3.3478e-02,\n",
              "          1.2709e-01, -1.0581e-01],\n",
              "        [ 5.5111e-02, -4.3149e-03,  8.0993e-02,  6.7937e-02,  8.6778e-02,  1.1115e-01,  5.4917e-02,  3.0703e-02,\n",
              "          1.2171e-01, -1.0676e-01],\n",
              "        [ 5.8554e-02,  8.4224e-03,  9.0148e-02,  6.9015e-02,  8.1819e-02,  9.7536e-02,  4.9101e-02,  3.0776e-02,\n",
              "          1.3878e-01, -1.1668e-01],\n",
              "        [ 5.6898e-02, -7.2087e-03,  8.5901e-02,  7.0690e-02,  7.0854e-02,  9.7475e-02,  5.2969e-02,  3.0331e-02,\n",
              "          1.3690e-01, -1.0625e-01],\n",
              "        [ 4.9210e-02, -6.5177e-03,  8.2928e-02,  7.4748e-02,  7.4309e-02,  1.0449e-01,  5.5340e-02,  2.9954e-02,\n",
              "          1.2740e-01, -1.0455e-01]])"
            ]
          },
          "metadata": {
            "tags": []
          },
          "execution_count": 52
        }
      ]
    },
    {
      "cell_type": "code",
      "metadata": {
        "id": "qtxsKVeLkiqO",
        "colab_type": "code",
        "colab": {
          "base_uri": "https://localhost:8080/",
          "height": 119
        },
        "outputId": "8adaa380-9740-4e9a-a641-89b1c236e1da"
      },
      "source": [
        "print(\"Actual labels :\", labels)\n",
        "print(\"Prdicted labels :\", preds.argmax(dim=1))"
      ],
      "execution_count": 66,
      "outputs": [
        {
          "output_type": "stream",
          "text": [
            "Actual labels : tensor([9, 0, 0, 3, 0, 2, 7, 2, 5, 5, 0, 9, 5, 5, 7, 9, 1, 0, 6, 4, 3, 1, 4, 8, 4, 3, 0, 2, 4, 4, 5, 3, 6, 6, 0, 8, 5,\n",
            "        2, 1, 6, 6, 7, 9, 5, 9, 2, 7, 3, 0, 3, 3, 3, 7, 2, 2, 6, 6, 8, 3, 3, 5, 0, 5, 5, 0, 2, 0, 0, 4, 1, 3, 1, 6, 3,\n",
            "        1, 4, 4, 6, 1, 9, 1, 3, 5, 7, 9, 7, 1, 7, 9, 9, 9, 3, 2, 9, 3, 6, 4, 1, 1, 8])\n",
            "Prdicted labels : tensor([8, 8, 8, 8, 8, 8, 8, 8, 8, 8, 8, 8, 8, 8, 8, 8, 8, 8, 8, 8, 8, 8, 8, 8, 8, 8, 8, 8, 8, 8, 8, 8, 8, 8, 8, 8, 8,\n",
            "        8, 8, 8, 8, 8, 8, 8, 8, 8, 8, 8, 8, 8, 8, 8, 8, 8, 8, 8, 8, 8, 8, 8, 8, 8, 8, 8, 8, 8, 8, 8, 8, 8, 8, 8, 8, 8,\n",
            "        8, 8, 8, 8, 8, 8, 8, 8, 8, 8, 8, 8, 8, 8, 8, 8, 8, 8, 8, 8, 8, 8, 8, 8, 8, 8])\n"
          ],
          "name": "stdout"
        }
      ]
    },
    {
      "cell_type": "code",
      "metadata": {
        "id": "E8YebtwYoIU0",
        "colab_type": "code",
        "colab": {
          "base_uri": "https://localhost:8080/",
          "height": 34
        },
        "outputId": "70b3340f-02e4-4a69-a1a0-8b96ca56ff98"
      },
      "source": [
        "torch.set_grad_enabled(True)"
      ],
      "execution_count": 72,
      "outputs": [
        {
          "output_type": "execute_result",
          "data": {
            "text/plain": [
              "<torch.autograd.grad_mode.set_grad_enabled at 0x7ff72f3da0f0>"
            ]
          },
          "metadata": {
            "tags": []
          },
          "execution_count": 72
        }
      ]
    },
    {
      "cell_type": "code",
      "metadata": {
        "colab_type": "code",
        "id": "tuTmNvdFrFhE",
        "colab": {}
      },
      "source": [
        "preds = cnn(images)"
      ],
      "execution_count": 0,
      "outputs": []
    },
    {
      "cell_type": "code",
      "metadata": {
        "id": "hiMODl9WoMnw",
        "colab_type": "code",
        "colab": {}
      },
      "source": [
        "def get_num_correct(preds, labels):\n",
        "    return preds.argmax(dim=1).eq(labels).sum().item()"
      ],
      "execution_count": 0,
      "outputs": []
    },
    {
      "cell_type": "markdown",
      "metadata": {
        "id": "v1HeS6Gzoxw8",
        "colab_type": "text"
      },
      "source": [
        "##Calculating loss"
      ]
    },
    {
      "cell_type": "code",
      "metadata": {
        "id": "qLwPao2Tow20",
        "colab_type": "code",
        "colab": {
          "base_uri": "https://localhost:8080/",
          "height": 34
        },
        "outputId": "886d273f-85cc-44f1-d7d0-31fb6e11df67"
      },
      "source": [
        "loss = F.cross_entropy(preds, labels)\n",
        "loss.item()"
      ],
      "execution_count": 78,
      "outputs": [
        {
          "output_type": "execute_result",
          "data": {
            "text/plain": [
              "2.310126781463623"
            ]
          },
          "metadata": {
            "tags": []
          },
          "execution_count": 78
        }
      ]
    },
    {
      "cell_type": "markdown",
      "metadata": {
        "id": "Jjn2JftGptNk",
        "colab_type": "text"
      },
      "source": [
        "##Calculating the gradients"
      ]
    },
    {
      "cell_type": "code",
      "metadata": {
        "id": "CK-R8HbGpw44",
        "colab_type": "code",
        "colab": {
          "base_uri": "https://localhost:8080/",
          "height": 34
        },
        "outputId": "a0337c2a-9cbd-4944-8a50-6b54a2dc3539"
      },
      "source": [
        "print(cnn.conv1.weight.grad)"
      ],
      "execution_count": 79,
      "outputs": [
        {
          "output_type": "stream",
          "text": [
            "None\n"
          ],
          "name": "stdout"
        }
      ]
    },
    {
      "cell_type": "code",
      "metadata": {
        "id": "hszdlqA0qCGe",
        "colab_type": "code",
        "colab": {}
      },
      "source": [
        "loss.backward() #Backpropogation"
      ],
      "execution_count": 0,
      "outputs": []
    },
    {
      "cell_type": "code",
      "metadata": {
        "id": "uXgSA-_brJVF",
        "colab_type": "code",
        "colab": {
          "base_uri": "https://localhost:8080/",
          "height": 697
        },
        "outputId": "2b4bf9e6-1a0e-4e65-f857-4ac207b435f5"
      },
      "source": [
        "print(cnn.conv1.weight.grad)"
      ],
      "execution_count": 81,
      "outputs": [
        {
          "output_type": "stream",
          "text": [
            "tensor([[[[-1.4712e-04,  3.7821e-04,  3.6613e-04,  1.8273e-04, -1.4440e-04],\n",
            "          [ 3.1816e-05,  4.3960e-04,  3.3182e-04,  6.8487e-05, -3.0887e-04],\n",
            "          [-1.4681e-05,  6.3299e-04,  3.7810e-04,  1.3920e-04, -1.1216e-04],\n",
            "          [ 1.6696e-04,  5.6197e-04,  6.9984e-04,  6.0001e-04,  2.7203e-04],\n",
            "          [ 2.9496e-04,  5.8502e-04,  8.0954e-04,  8.7549e-04,  5.4112e-04]]],\n",
            "\n",
            "\n",
            "        [[[-5.9710e-04, -3.9113e-04, -1.3897e-04, -1.2413e-04, -1.0982e-04],\n",
            "          [-1.7469e-04, -2.0142e-04, -1.0248e-04, -1.3422e-04, -1.7835e-05],\n",
            "          [-9.5745e-05, -1.8818e-04, -1.1969e-04, -1.6508e-04,  4.4148e-05],\n",
            "          [-7.5182e-05, -1.6992e-04, -1.4365e-04, -3.7560e-05,  5.5279e-05],\n",
            "          [ 1.5637e-04,  2.0811e-05, -1.2278e-04, -2.9838e-04,  2.0530e-04]]],\n",
            "\n",
            "\n",
            "        [[[ 6.5494e-04,  2.8874e-04, -2.1658e-05, -1.2729e-03, -1.2798e-03],\n",
            "          [ 7.1895e-04,  4.5123e-04,  1.2162e-04, -7.3348e-04, -1.0423e-03],\n",
            "          [ 6.1128e-04,  3.6140e-04, -3.4727e-04, -1.1574e-03, -1.4650e-03],\n",
            "          [ 3.8263e-04,  5.9249e-05, -9.0545e-04, -1.5137e-03, -1.7634e-03],\n",
            "          [ 3.8137e-04, -7.0143e-05, -1.0548e-03, -1.4924e-03, -2.1149e-03]]],\n",
            "\n",
            "\n",
            "        [[[-6.4357e-04, -8.2423e-04, -5.6193e-04, -2.2551e-04, -1.2070e-04],\n",
            "          [-5.8741e-04, -4.0328e-04, -4.2360e-04, -2.9243e-04, -3.6428e-04],\n",
            "          [-4.6452e-04, -4.8037e-04, -3.9202e-04, -2.6922e-04, -2.6152e-04],\n",
            "          [-5.1088e-04, -6.2354e-04, -4.4126e-04, -2.6715e-04, -7.0078e-04],\n",
            "          [-6.5971e-04, -8.3595e-04, -4.2049e-04, -6.6903e-04, -7.2105e-04]]],\n",
            "\n",
            "\n",
            "        [[[ 3.1605e-05, -1.3469e-04, -9.5961e-05, -1.0221e-03, -1.2716e-03],\n",
            "          [ 1.3877e-04, -6.0748e-05,  2.4668e-04, -1.0389e-03, -1.3525e-03],\n",
            "          [ 3.2693e-04,  2.0728e-04,  6.7653e-04, -1.0353e-03, -1.4190e-03],\n",
            "          [ 6.8288e-04,  3.8564e-04,  4.3812e-04, -1.2865e-03, -1.5309e-03],\n",
            "          [ 3.5263e-04,  2.3602e-04, -1.1484e-05, -1.6426e-03, -1.9418e-03]]],\n",
            "\n",
            "\n",
            "        [[[ 6.8096e-04,  8.8261e-04,  1.1056e-03,  8.7685e-04,  4.0429e-04],\n",
            "          [ 5.3708e-04,  1.1249e-03,  1.2042e-03,  3.6743e-04,  3.2649e-04],\n",
            "          [ 1.2979e-03,  1.2344e-03,  1.6374e-03,  8.3830e-04,  8.9291e-04],\n",
            "          [ 4.7148e-04,  6.8042e-04,  1.2939e-03,  7.1670e-04,  8.1831e-04],\n",
            "          [ 9.1929e-05,  3.5050e-04,  1.2537e-03,  9.9096e-04,  7.6784e-04]]]])\n"
          ],
          "name": "stdout"
        }
      ]
    },
    {
      "cell_type": "code",
      "metadata": {
        "id": "tu9UbwwQrqqS",
        "colab_type": "code",
        "colab": {}
      },
      "source": [
        "optimizer = optim.Adam(cnn.parameters(), lr=0.01)"
      ],
      "execution_count": 0,
      "outputs": []
    },
    {
      "cell_type": "markdown",
      "metadata": {
        "id": "txNPXzFWsHuf",
        "colab_type": "text"
      },
      "source": [
        "##Before optimizing"
      ]
    },
    {
      "cell_type": "code",
      "metadata": {
        "id": "DBPikHrZr1HH",
        "colab_type": "code",
        "colab": {
          "base_uri": "https://localhost:8080/",
          "height": 51
        },
        "outputId": "c420e88d-7c61-45bf-fb42-6393e01be13f"
      },
      "source": [
        "print(loss.item())\n",
        "print(get_num_correct(preds, labels))"
      ],
      "execution_count": 87,
      "outputs": [
        {
          "output_type": "stream",
          "text": [
            "2.310126781463623\n",
            "4\n"
          ],
          "name": "stdout"
        }
      ]
    },
    {
      "cell_type": "markdown",
      "metadata": {
        "id": "jgjqeHvXsKMt",
        "colab_type": "text"
      },
      "source": [
        "##After Optimizing"
      ]
    },
    {
      "cell_type": "code",
      "metadata": {
        "id": "WujBPgpPslu9",
        "colab_type": "code",
        "colab": {
          "base_uri": "https://localhost:8080/",
          "height": 51
        },
        "outputId": "a663211b-be01-4c21-bdc1-1f9591cf098b"
      },
      "source": [
        "optimizer.step()\n",
        "preds = cnn(images)\n",
        "loss = F.cross_entropy(preds, labels)\n",
        "print(loss.item())\n",
        "print(get_num_correct(preds, labels))"
      ],
      "execution_count": 89,
      "outputs": [
        {
          "output_type": "stream",
          "text": [
            "2.272719621658325\n",
            "15\n"
          ],
          "name": "stdout"
        }
      ]
    },
    {
      "cell_type": "markdown",
      "metadata": {
        "id": "mMgKgd2ftCjY",
        "colab_type": "text"
      },
      "source": [
        "##Training with a single batch\n"
      ]
    },
    {
      "cell_type": "code",
      "metadata": {
        "id": "NcF7lI2WtCOV",
        "colab_type": "code",
        "colab": {
          "base_uri": "https://localhost:8080/",
          "height": 51
        },
        "outputId": "be51796c-c739-4697-8ce5-f738a52a07a9"
      },
      "source": [
        "cnn = Network()\n",
        "\n",
        "train_loader = torch.utils.data.DataLoader(train, batch_size=100)\n",
        "optimizer  = optim.Adam(cnn.parameters(), lr=0.01)\n",
        "\n",
        "batch = next(iter(train_loader))\n",
        "images, labels = batch\n",
        "\n",
        "preds = cnn(images)\n",
        "loss = F.cross_entropy(preds, labels)\n",
        "\n",
        "loss.backward()\n",
        "optimizer.step()\n",
        "\n",
        "print('loss1:', loss.item())\n",
        "preds = cnn(images)\n",
        "loss = F.cross_entropy(preds, labels)\n",
        "print('loss2', loss.item())"
      ],
      "execution_count": 91,
      "outputs": [
        {
          "output_type": "stream",
          "text": [
            "loss1: 2.3034026622772217\n",
            "loss2 2.2653143405914307\n"
          ],
          "name": "stdout"
        }
      ]
    },
    {
      "cell_type": "markdown",
      "metadata": {
        "id": "vJujd9m1v82P",
        "colab_type": "text"
      },
      "source": [
        "##Training a single epoch"
      ]
    },
    {
      "cell_type": "code",
      "metadata": {
        "id": "16A-n7OZwB27",
        "colab_type": "code",
        "colab": {
          "base_uri": "https://localhost:8080/",
          "height": 1000
        },
        "outputId": "30ab44f1-fa74-4367-aa18-4fc5322dd368"
      },
      "source": [
        "cnn = Network()\n",
        "\n",
        "train_loader = torch.utils.data.DataLoader(train, batch_size=100)\n",
        "optimizer  = optim.Adam(cnn.parameters(), lr=0.01)\n",
        "\n",
        "total_loss = []\n",
        "total_correct = []\n",
        "\n",
        "for batch in train_loader:\n",
        "    images, labels = batch\n",
        "\n",
        "    preds = cnn(images)\n",
        "    loss = F.cross_entropy(preds, labels)\n",
        "\n",
        "    optimizer.zero_grad()\n",
        "    loss.backward()\n",
        "    optimizer.step()\n",
        "\n",
        "    total_loss.append(loss.item())\n",
        "    print('loss :', loss.item())\n",
        "    total_correct.append(get_num_correct(preds, labels))\n",
        "    print('total_correct :', get_num_correct(preds, labels))\n"
      ],
      "execution_count": 101,
      "outputs": [
        {
          "output_type": "stream",
          "text": [
            "loss : 2.3048408031463623\n",
            "total_correct : 4\n",
            "loss : 2.3260598182678223\n",
            "total_correct : 2\n",
            "loss : 2.3023064136505127\n",
            "total_correct : 7\n",
            "loss : 2.2859554290771484\n",
            "total_correct : 13\n",
            "loss : 2.271723985671997\n",
            "total_correct : 24\n",
            "loss : 2.2325539588928223\n",
            "total_correct : 18\n",
            "loss : 2.1564483642578125\n",
            "total_correct : 24\n",
            "loss : 1.9629162549972534\n",
            "total_correct : 30\n",
            "loss : 1.8426669836044312\n",
            "total_correct : 39\n",
            "loss : 1.7382495403289795\n",
            "total_correct : 35\n",
            "loss : 1.9776324033737183\n",
            "total_correct : 21\n",
            "loss : 1.5894782543182373\n",
            "total_correct : 42\n",
            "loss : 1.5450234413146973\n",
            "total_correct : 47\n",
            "loss : 1.5650402307510376\n",
            "total_correct : 33\n",
            "loss : 1.5839741230010986\n",
            "total_correct : 29\n",
            "loss : 1.4448398351669312\n",
            "total_correct : 40\n",
            "loss : 1.3632735013961792\n",
            "total_correct : 50\n",
            "loss : 1.226456642150879\n",
            "total_correct : 59\n",
            "loss : 1.2884840965270996\n",
            "total_correct : 58\n",
            "loss : 1.162366509437561\n",
            "total_correct : 49\n",
            "loss : 1.3288121223449707\n",
            "total_correct : 39\n",
            "loss : 1.2027608156204224\n",
            "total_correct : 44\n",
            "loss : 0.9407044053077698\n",
            "total_correct : 60\n",
            "loss : 1.232401967048645\n",
            "total_correct : 53\n",
            "loss : 1.0019134283065796\n",
            "total_correct : 64\n",
            "loss : 0.9541577100753784\n",
            "total_correct : 64\n",
            "loss : 1.1028268337249756\n",
            "total_correct : 58\n",
            "loss : 1.249587893486023\n",
            "total_correct : 53\n",
            "loss : 1.1568312644958496\n",
            "total_correct : 51\n",
            "loss : 1.0775874853134155\n",
            "total_correct : 53\n",
            "loss : 1.0678054094314575\n",
            "total_correct : 59\n",
            "loss : 0.9504757523536682\n",
            "total_correct : 63\n",
            "loss : 0.9837462902069092\n",
            "total_correct : 56\n",
            "loss : 1.0016294717788696\n",
            "total_correct : 65\n",
            "loss : 0.862417459487915\n",
            "total_correct : 63\n",
            "loss : 0.9530475735664368\n",
            "total_correct : 62\n",
            "loss : 1.0467438697814941\n",
            "total_correct : 62\n",
            "loss : 0.7586018443107605\n",
            "total_correct : 73\n",
            "loss : 1.1384726762771606\n",
            "total_correct : 62\n",
            "loss : 1.0866154432296753\n",
            "total_correct : 64\n",
            "loss : 1.0120532512664795\n",
            "total_correct : 62\n",
            "loss : 0.7212769985198975\n",
            "total_correct : 77\n",
            "loss : 0.8574608564376831\n",
            "total_correct : 65\n",
            "loss : 0.7878215909004211\n",
            "total_correct : 67\n",
            "loss : 0.8870195746421814\n",
            "total_correct : 67\n",
            "loss : 0.8507930040359497\n",
            "total_correct : 69\n",
            "loss : 0.6317627429962158\n",
            "total_correct : 82\n",
            "loss : 0.7455765008926392\n",
            "total_correct : 75\n",
            "loss : 0.7882357239723206\n",
            "total_correct : 75\n",
            "loss : 0.7343243956565857\n",
            "total_correct : 72\n",
            "loss : 0.8658092617988586\n",
            "total_correct : 60\n",
            "loss : 1.0104752779006958\n",
            "total_correct : 59\n",
            "loss : 1.0274792909622192\n",
            "total_correct : 59\n",
            "loss : 0.912895143032074\n",
            "total_correct : 70\n",
            "loss : 0.8768536448478699\n",
            "total_correct : 69\n",
            "loss : 0.9822892546653748\n",
            "total_correct : 70\n",
            "loss : 0.8566036224365234\n",
            "total_correct : 69\n",
            "loss : 0.765705406665802\n",
            "total_correct : 74\n",
            "loss : 0.6986054182052612\n",
            "total_correct : 72\n",
            "loss : 0.8536242842674255\n",
            "total_correct : 62\n",
            "loss : 0.7758020758628845\n",
            "total_correct : 68\n",
            "loss : 0.8425524830818176\n",
            "total_correct : 67\n",
            "loss : 0.8035523891448975\n",
            "total_correct : 67\n",
            "loss : 0.7233444452285767\n",
            "total_correct : 73\n",
            "loss : 0.8473528027534485\n",
            "total_correct : 66\n",
            "loss : 0.8169097900390625\n",
            "total_correct : 79\n",
            "loss : 0.815012514591217\n",
            "total_correct : 70\n",
            "loss : 0.6946650743484497\n",
            "total_correct : 66\n",
            "loss : 0.7705127596855164\n",
            "total_correct : 65\n",
            "loss : 0.6771212220191956\n",
            "total_correct : 77\n",
            "loss : 0.6369638442993164\n",
            "total_correct : 72\n",
            "loss : 0.6287880539894104\n",
            "total_correct : 73\n",
            "loss : 0.8467159867286682\n",
            "total_correct : 70\n",
            "loss : 0.8298258781433105\n",
            "total_correct : 67\n",
            "loss : 0.6561755537986755\n",
            "total_correct : 73\n",
            "loss : 0.7030439972877502\n",
            "total_correct : 72\n",
            "loss : 0.8690492510795593\n",
            "total_correct : 67\n",
            "loss : 0.6543643474578857\n",
            "total_correct : 78\n",
            "loss : 0.7317926287651062\n",
            "total_correct : 67\n",
            "loss : 0.7299731373786926\n",
            "total_correct : 73\n",
            "loss : 0.7698359489440918\n",
            "total_correct : 68\n",
            "loss : 0.6930063366889954\n",
            "total_correct : 77\n",
            "loss : 0.7174530625343323\n",
            "total_correct : 72\n",
            "loss : 0.7323216795921326\n",
            "total_correct : 68\n",
            "loss : 0.7278952598571777\n",
            "total_correct : 71\n",
            "loss : 0.6725627183914185\n",
            "total_correct : 74\n",
            "loss : 0.7289292812347412\n",
            "total_correct : 71\n",
            "loss : 0.7008918523788452\n",
            "total_correct : 74\n",
            "loss : 0.673571765422821\n",
            "total_correct : 72\n",
            "loss : 0.853672206401825\n",
            "total_correct : 69\n",
            "loss : 0.8250883221626282\n",
            "total_correct : 73\n",
            "loss : 0.7895327210426331\n",
            "total_correct : 69\n",
            "loss : 0.5607707500457764\n",
            "total_correct : 77\n",
            "loss : 0.6327559351921082\n",
            "total_correct : 77\n",
            "loss : 0.8906797170639038\n",
            "total_correct : 65\n",
            "loss : 0.7848390936851501\n",
            "total_correct : 71\n",
            "loss : 0.788032054901123\n",
            "total_correct : 68\n",
            "loss : 0.7530819773674011\n",
            "total_correct : 69\n",
            "loss : 0.6731676459312439\n",
            "total_correct : 76\n",
            "loss : 0.727586030960083\n",
            "total_correct : 70\n",
            "loss : 0.5687069296836853\n",
            "total_correct : 77\n",
            "loss : 0.6668022274971008\n",
            "total_correct : 75\n",
            "loss : 0.7909849286079407\n",
            "total_correct : 68\n",
            "loss : 0.5834752917289734\n",
            "total_correct : 77\n",
            "loss : 0.7976466417312622\n",
            "total_correct : 65\n",
            "loss : 0.49618613719940186\n",
            "total_correct : 83\n",
            "loss : 0.6127915382385254\n",
            "total_correct : 75\n",
            "loss : 0.7840182781219482\n",
            "total_correct : 76\n",
            "loss : 0.5427796244621277\n",
            "total_correct : 83\n",
            "loss : 0.7311815023422241\n",
            "total_correct : 72\n",
            "loss : 0.6142769455909729\n",
            "total_correct : 77\n",
            "loss : 0.6982389688491821\n",
            "total_correct : 70\n",
            "loss : 0.5510094165802002\n",
            "total_correct : 76\n",
            "loss : 0.5818970203399658\n",
            "total_correct : 79\n",
            "loss : 0.7242466807365417\n",
            "total_correct : 72\n",
            "loss : 0.816102921962738\n",
            "total_correct : 67\n",
            "loss : 0.7627785205841064\n",
            "total_correct : 68\n",
            "loss : 0.7172410488128662\n",
            "total_correct : 78\n",
            "loss : 0.8692528605461121\n",
            "total_correct : 67\n",
            "loss : 0.7695651054382324\n",
            "total_correct : 69\n",
            "loss : 0.7426555156707764\n",
            "total_correct : 71\n",
            "loss : 0.8066261410713196\n",
            "total_correct : 72\n",
            "loss : 0.6361561417579651\n",
            "total_correct : 78\n",
            "loss : 0.5778524875640869\n",
            "total_correct : 78\n",
            "loss : 0.625017523765564\n",
            "total_correct : 73\n",
            "loss : 0.5104414224624634\n",
            "total_correct : 83\n",
            "loss : 0.583658754825592\n",
            "total_correct : 78\n",
            "loss : 0.794533908367157\n",
            "total_correct : 69\n",
            "loss : 0.5167734026908875\n",
            "total_correct : 81\n",
            "loss : 0.6046760678291321\n",
            "total_correct : 73\n",
            "loss : 0.5096380710601807\n",
            "total_correct : 77\n",
            "loss : 0.7818478345870972\n",
            "total_correct : 72\n",
            "loss : 0.5313284993171692\n",
            "total_correct : 76\n",
            "loss : 0.627662181854248\n",
            "total_correct : 73\n",
            "loss : 0.73274827003479\n",
            "total_correct : 69\n",
            "loss : 0.807064414024353\n",
            "total_correct : 66\n",
            "loss : 0.6355538368225098\n",
            "total_correct : 78\n",
            "loss : 0.6105764508247375\n",
            "total_correct : 75\n",
            "loss : 0.5692028999328613\n",
            "total_correct : 79\n",
            "loss : 0.7152227163314819\n",
            "total_correct : 68\n",
            "loss : 0.6632293462753296\n",
            "total_correct : 75\n",
            "loss : 0.6746512055397034\n",
            "total_correct : 69\n",
            "loss : 0.6577108502388\n",
            "total_correct : 75\n",
            "loss : 0.5689381957054138\n",
            "total_correct : 79\n",
            "loss : 0.598975658416748\n",
            "total_correct : 77\n",
            "loss : 0.49483898282051086\n",
            "total_correct : 80\n",
            "loss : 0.5590741634368896\n",
            "total_correct : 76\n",
            "loss : 0.49910223484039307\n",
            "total_correct : 81\n",
            "loss : 0.6469743251800537\n",
            "total_correct : 73\n",
            "loss : 0.6383811831474304\n",
            "total_correct : 74\n",
            "loss : 0.5800507068634033\n",
            "total_correct : 78\n",
            "loss : 0.6305593848228455\n",
            "total_correct : 77\n",
            "loss : 0.7011959552764893\n",
            "total_correct : 72\n",
            "loss : 0.5698387622833252\n",
            "total_correct : 79\n",
            "loss : 0.7011611461639404\n",
            "total_correct : 74\n",
            "loss : 0.6588252186775208\n",
            "total_correct : 73\n",
            "loss : 0.6119517683982849\n",
            "total_correct : 76\n",
            "loss : 0.6522279381752014\n",
            "total_correct : 77\n",
            "loss : 0.45418494939804077\n",
            "total_correct : 83\n",
            "loss : 0.6093653440475464\n",
            "total_correct : 80\n",
            "loss : 0.7030587196350098\n",
            "total_correct : 73\n",
            "loss : 0.5298855900764465\n",
            "total_correct : 80\n",
            "loss : 0.4969179928302765\n",
            "total_correct : 77\n",
            "loss : 0.6145737171173096\n",
            "total_correct : 78\n",
            "loss : 0.4434222877025604\n",
            "total_correct : 84\n",
            "loss : 0.5888773798942566\n",
            "total_correct : 75\n",
            "loss : 0.7079034447669983\n",
            "total_correct : 75\n",
            "loss : 0.6915619373321533\n",
            "total_correct : 72\n",
            "loss : 0.5710266828536987\n",
            "total_correct : 75\n",
            "loss : 0.44284477829933167\n",
            "total_correct : 79\n",
            "loss : 0.5234739780426025\n",
            "total_correct : 80\n",
            "loss : 0.4611184597015381\n",
            "total_correct : 82\n",
            "loss : 0.6915338039398193\n",
            "total_correct : 77\n",
            "loss : 0.6659314036369324\n",
            "total_correct : 77\n",
            "loss : 0.5939800143241882\n",
            "total_correct : 76\n",
            "loss : 0.5580503940582275\n",
            "total_correct : 81\n",
            "loss : 0.6437410712242126\n",
            "total_correct : 75\n",
            "loss : 0.5795912146568298\n",
            "total_correct : 79\n",
            "loss : 0.6113706827163696\n",
            "total_correct : 73\n",
            "loss : 0.5614671111106873\n",
            "total_correct : 76\n",
            "loss : 0.8306777477264404\n",
            "total_correct : 72\n",
            "loss : 0.5656019449234009\n",
            "total_correct : 76\n",
            "loss : 0.5295135974884033\n",
            "total_correct : 80\n",
            "loss : 0.5733450055122375\n",
            "total_correct : 79\n",
            "loss : 0.5398394465446472\n",
            "total_correct : 77\n",
            "loss : 0.5795256495475769\n",
            "total_correct : 82\n",
            "loss : 0.5556173920631409\n",
            "total_correct : 84\n",
            "loss : 0.5557520389556885\n",
            "total_correct : 80\n",
            "loss : 0.7003637552261353\n",
            "total_correct : 69\n",
            "loss : 0.5263240933418274\n",
            "total_correct : 79\n",
            "loss : 0.7572194933891296\n",
            "total_correct : 76\n",
            "loss : 0.5398967266082764\n",
            "total_correct : 77\n",
            "loss : 0.5944784879684448\n",
            "total_correct : 80\n",
            "loss : 0.6575236320495605\n",
            "total_correct : 72\n",
            "loss : 0.6915834546089172\n",
            "total_correct : 71\n",
            "loss : 0.5264398455619812\n",
            "total_correct : 80\n",
            "loss : 0.3767769932746887\n",
            "total_correct : 89\n",
            "loss : 0.5543657541275024\n",
            "total_correct : 82\n",
            "loss : 0.6809774041175842\n",
            "total_correct : 76\n",
            "loss : 0.601020872592926\n",
            "total_correct : 80\n",
            "loss : 0.4149562418460846\n",
            "total_correct : 86\n",
            "loss : 0.6022670865058899\n",
            "total_correct : 78\n",
            "loss : 0.4834451377391815\n",
            "total_correct : 80\n",
            "loss : 0.5291554927825928\n",
            "total_correct : 81\n",
            "loss : 0.5720266699790955\n",
            "total_correct : 78\n",
            "loss : 0.6340727806091309\n",
            "total_correct : 79\n",
            "loss : 0.6281424760818481\n",
            "total_correct : 77\n",
            "loss : 0.5274419188499451\n",
            "total_correct : 79\n",
            "loss : 0.46483203768730164\n",
            "total_correct : 78\n",
            "loss : 0.4876319169998169\n",
            "total_correct : 78\n",
            "loss : 0.6973070502281189\n",
            "total_correct : 73\n",
            "loss : 0.48667827248573303\n",
            "total_correct : 80\n",
            "loss : 0.48018139600753784\n",
            "total_correct : 81\n",
            "loss : 0.5841573476791382\n",
            "total_correct : 70\n",
            "loss : 0.6123823523521423\n",
            "total_correct : 77\n",
            "loss : 0.3910319209098816\n",
            "total_correct : 87\n",
            "loss : 0.561832070350647\n",
            "total_correct : 73\n",
            "loss : 0.50356125831604\n",
            "total_correct : 78\n",
            "loss : 0.6005598306655884\n",
            "total_correct : 80\n",
            "loss : 0.5264895558357239\n",
            "total_correct : 85\n",
            "loss : 0.5543807744979858\n",
            "total_correct : 80\n",
            "loss : 0.6153665781021118\n",
            "total_correct : 81\n",
            "loss : 0.4739725589752197\n",
            "total_correct : 85\n",
            "loss : 0.521741509437561\n",
            "total_correct : 78\n",
            "loss : 0.3882206380367279\n",
            "total_correct : 85\n",
            "loss : 0.6954940557479858\n",
            "total_correct : 74\n",
            "loss : 0.5068730711936951\n",
            "total_correct : 81\n",
            "loss : 0.507173478603363\n",
            "total_correct : 83\n",
            "loss : 0.45965301990509033\n",
            "total_correct : 85\n",
            "loss : 0.7089030742645264\n",
            "total_correct : 75\n",
            "loss : 0.6304922699928284\n",
            "total_correct : 74\n",
            "loss : 0.5163446664810181\n",
            "total_correct : 77\n",
            "loss : 0.4210769534111023\n",
            "total_correct : 85\n",
            "loss : 0.47244471311569214\n",
            "total_correct : 79\n",
            "loss : 0.6585938334465027\n",
            "total_correct : 74\n",
            "loss : 0.5059241652488708\n",
            "total_correct : 81\n",
            "loss : 0.5882525444030762\n",
            "total_correct : 75\n",
            "loss : 0.5160708427429199\n",
            "total_correct : 81\n",
            "loss : 0.4530225694179535\n",
            "total_correct : 85\n",
            "loss : 0.4865116477012634\n",
            "total_correct : 84\n",
            "loss : 0.8852546811103821\n",
            "total_correct : 68\n",
            "loss : 0.5811334252357483\n",
            "total_correct : 79\n",
            "loss : 0.48061394691467285\n",
            "total_correct : 78\n",
            "loss : 0.49919068813323975\n",
            "total_correct : 83\n",
            "loss : 0.48627331852912903\n",
            "total_correct : 79\n",
            "loss : 0.6775386929512024\n",
            "total_correct : 68\n",
            "loss : 0.5077610611915588\n",
            "total_correct : 84\n",
            "loss : 0.4600948691368103\n",
            "total_correct : 81\n",
            "loss : 0.5925541520118713\n",
            "total_correct : 82\n",
            "loss : 0.39499691128730774\n",
            "total_correct : 86\n",
            "loss : 0.439534068107605\n",
            "total_correct : 87\n",
            "loss : 0.4687000513076782\n",
            "total_correct : 84\n",
            "loss : 0.4540977478027344\n",
            "total_correct : 87\n",
            "loss : 0.35563209652900696\n",
            "total_correct : 88\n",
            "loss : 0.5611859560012817\n",
            "total_correct : 80\n",
            "loss : 0.6613731384277344\n",
            "total_correct : 77\n",
            "loss : 0.4661794900894165\n",
            "total_correct : 80\n",
            "loss : 0.5294250845909119\n",
            "total_correct : 78\n",
            "loss : 0.3954758942127228\n",
            "total_correct : 88\n",
            "loss : 0.49845966696739197\n",
            "total_correct : 82\n",
            "loss : 0.49303561449050903\n",
            "total_correct : 81\n",
            "loss : 0.45734313130378723\n",
            "total_correct : 87\n",
            "loss : 0.6645867824554443\n",
            "total_correct : 73\n",
            "loss : 0.45315057039260864\n",
            "total_correct : 86\n",
            "loss : 0.4088539481163025\n",
            "total_correct : 85\n",
            "loss : 0.3155726492404938\n",
            "total_correct : 89\n",
            "loss : 0.38786351680755615\n",
            "total_correct : 87\n",
            "loss : 0.5701444149017334\n",
            "total_correct : 78\n",
            "loss : 0.3754720985889435\n",
            "total_correct : 87\n",
            "loss : 0.5324949026107788\n",
            "total_correct : 83\n",
            "loss : 0.3359858989715576\n",
            "total_correct : 87\n",
            "loss : 0.5385516881942749\n",
            "total_correct : 81\n",
            "loss : 0.5309277772903442\n",
            "total_correct : 78\n",
            "loss : 0.4594971537590027\n",
            "total_correct : 85\n",
            "loss : 0.476963609457016\n",
            "total_correct : 78\n",
            "loss : 0.5789591670036316\n",
            "total_correct : 80\n",
            "loss : 0.7013486623764038\n",
            "total_correct : 74\n",
            "loss : 0.5401365756988525\n",
            "total_correct : 81\n",
            "loss : 0.38432615995407104\n",
            "total_correct : 86\n",
            "loss : 0.4752460718154907\n",
            "total_correct : 79\n",
            "loss : 0.6193621158599854\n",
            "total_correct : 82\n",
            "loss : 0.4755062162876129\n",
            "total_correct : 81\n",
            "loss : 0.7106844186782837\n",
            "total_correct : 75\n",
            "loss : 0.5250101685523987\n",
            "total_correct : 80\n",
            "loss : 0.4993545114994049\n",
            "total_correct : 82\n",
            "loss : 0.5832311511039734\n",
            "total_correct : 77\n",
            "loss : 0.440751314163208\n",
            "total_correct : 84\n",
            "loss : 0.5156095027923584\n",
            "total_correct : 79\n",
            "loss : 0.5500943660736084\n",
            "total_correct : 80\n",
            "loss : 0.5336077213287354\n",
            "total_correct : 80\n",
            "loss : 0.4879046380519867\n",
            "total_correct : 85\n",
            "loss : 0.3686719238758087\n",
            "total_correct : 88\n",
            "loss : 0.5403326749801636\n",
            "total_correct : 82\n",
            "loss : 0.48071709275245667\n",
            "total_correct : 82\n",
            "loss : 0.5542770028114319\n",
            "total_correct : 80\n",
            "loss : 0.680579662322998\n",
            "total_correct : 72\n",
            "loss : 0.48816177248954773\n",
            "total_correct : 83\n",
            "loss : 0.5786557197570801\n",
            "total_correct : 80\n",
            "loss : 0.4398620128631592\n",
            "total_correct : 80\n",
            "loss : 0.4796167314052582\n",
            "total_correct : 84\n",
            "loss : 0.5172312259674072\n",
            "total_correct : 78\n",
            "loss : 0.4691222012042999\n",
            "total_correct : 80\n",
            "loss : 0.4970563054084778\n",
            "total_correct : 78\n",
            "loss : 0.2758219838142395\n",
            "total_correct : 91\n",
            "loss : 0.37219029664993286\n",
            "total_correct : 85\n",
            "loss : 0.48855018615722656\n",
            "total_correct : 82\n",
            "loss : 0.5621607899665833\n",
            "total_correct : 81\n",
            "loss : 0.5029405355453491\n",
            "total_correct : 80\n",
            "loss : 0.4270988404750824\n",
            "total_correct : 84\n",
            "loss : 0.6173943281173706\n",
            "total_correct : 76\n",
            "loss : 0.42507994174957275\n",
            "total_correct : 85\n",
            "loss : 0.449395090341568\n",
            "total_correct : 81\n",
            "loss : 0.6019236445426941\n",
            "total_correct : 79\n",
            "loss : 0.3880995512008667\n",
            "total_correct : 85\n",
            "loss : 0.3867947459220886\n",
            "total_correct : 86\n",
            "loss : 0.4036322832107544\n",
            "total_correct : 87\n",
            "loss : 0.5346328616142273\n",
            "total_correct : 82\n",
            "loss : 0.5379577279090881\n",
            "total_correct : 80\n",
            "loss : 0.47924068570137024\n",
            "total_correct : 80\n",
            "loss : 0.2984323799610138\n",
            "total_correct : 90\n",
            "loss : 0.5591291785240173\n",
            "total_correct : 78\n",
            "loss : 0.4903012216091156\n",
            "total_correct : 80\n",
            "loss : 0.444096177816391\n",
            "total_correct : 82\n",
            "loss : 0.43974190950393677\n",
            "total_correct : 83\n",
            "loss : 0.4216628670692444\n",
            "total_correct : 89\n",
            "loss : 0.2825806438922882\n",
            "total_correct : 92\n",
            "loss : 0.400799036026001\n",
            "total_correct : 86\n",
            "loss : 0.5971312522888184\n",
            "total_correct : 79\n",
            "loss : 0.4541599154472351\n",
            "total_correct : 82\n",
            "loss : 0.3999236822128296\n",
            "total_correct : 84\n",
            "loss : 0.31659024953842163\n",
            "total_correct : 89\n",
            "loss : 0.3413989543914795\n",
            "total_correct : 87\n",
            "loss : 0.4051234722137451\n",
            "total_correct : 84\n",
            "loss : 0.40599510073661804\n",
            "total_correct : 80\n",
            "loss : 0.42450854182243347\n",
            "total_correct : 84\n",
            "loss : 0.6797553300857544\n",
            "total_correct : 78\n",
            "loss : 0.4543837606906891\n",
            "total_correct : 82\n",
            "loss : 0.6514314413070679\n",
            "total_correct : 83\n",
            "loss : 0.38567909598350525\n",
            "total_correct : 85\n",
            "loss : 0.5936106443405151\n",
            "total_correct : 83\n",
            "loss : 0.5476974844932556\n",
            "total_correct : 81\n",
            "loss : 0.38853731751441956\n",
            "total_correct : 92\n",
            "loss : 0.43963584303855896\n",
            "total_correct : 81\n",
            "loss : 0.39948636293411255\n",
            "total_correct : 84\n",
            "loss : 0.3356419801712036\n",
            "total_correct : 89\n",
            "loss : 0.41037890315055847\n",
            "total_correct : 86\n",
            "loss : 0.41743990778923035\n",
            "total_correct : 85\n",
            "loss : 0.48595309257507324\n",
            "total_correct : 83\n",
            "loss : 0.5251534581184387\n",
            "total_correct : 82\n",
            "loss : 0.48311126232147217\n",
            "total_correct : 86\n",
            "loss : 0.27659517526626587\n",
            "total_correct : 89\n",
            "loss : 0.542829692363739\n",
            "total_correct : 78\n",
            "loss : 0.277398943901062\n",
            "total_correct : 91\n",
            "loss : 0.43071043491363525\n",
            "total_correct : 86\n",
            "loss : 0.33674320578575134\n",
            "total_correct : 89\n",
            "loss : 0.47056686878204346\n",
            "total_correct : 83\n",
            "loss : 0.5472037196159363\n",
            "total_correct : 82\n",
            "loss : 0.6633327603340149\n",
            "total_correct : 76\n",
            "loss : 0.3977620005607605\n",
            "total_correct : 85\n",
            "loss : 0.4117494225502014\n",
            "total_correct : 84\n",
            "loss : 0.5570471286773682\n",
            "total_correct : 84\n",
            "loss : 0.43581992387771606\n",
            "total_correct : 82\n",
            "loss : 0.4647722542285919\n",
            "total_correct : 83\n",
            "loss : 0.5607835650444031\n",
            "total_correct : 77\n",
            "loss : 0.6037819385528564\n",
            "total_correct : 77\n",
            "loss : 0.5987136960029602\n",
            "total_correct : 78\n",
            "loss : 0.4335900545120239\n",
            "total_correct : 81\n",
            "loss : 0.5832192301750183\n",
            "total_correct : 77\n",
            "loss : 0.3774092197418213\n",
            "total_correct : 85\n",
            "loss : 0.4348490238189697\n",
            "total_correct : 85\n",
            "loss : 0.44461047649383545\n",
            "total_correct : 82\n",
            "loss : 0.45639172196388245\n",
            "total_correct : 85\n",
            "loss : 0.5695130228996277\n",
            "total_correct : 80\n",
            "loss : 0.5091014504432678\n",
            "total_correct : 84\n",
            "loss : 0.37999576330184937\n",
            "total_correct : 86\n",
            "loss : 0.33869579434394836\n",
            "total_correct : 88\n",
            "loss : 0.5069319009780884\n",
            "total_correct : 80\n",
            "loss : 0.3360937833786011\n",
            "total_correct : 83\n",
            "loss : 0.35789766907691956\n",
            "total_correct : 89\n",
            "loss : 0.5891506671905518\n",
            "total_correct : 80\n",
            "loss : 0.545426607131958\n",
            "total_correct : 84\n",
            "loss : 0.5457283854484558\n",
            "total_correct : 81\n",
            "loss : 0.47212958335876465\n",
            "total_correct : 85\n",
            "loss : 0.39504945278167725\n",
            "total_correct : 88\n",
            "loss : 0.3337779939174652\n",
            "total_correct : 88\n",
            "loss : 0.5502515435218811\n",
            "total_correct : 81\n",
            "loss : 0.3835361897945404\n",
            "total_correct : 82\n",
            "loss : 0.42207878828048706\n",
            "total_correct : 84\n",
            "loss : 0.3873461186885834\n",
            "total_correct : 88\n",
            "loss : 0.3671174943447113\n",
            "total_correct : 85\n",
            "loss : 0.4135419428348541\n",
            "total_correct : 87\n",
            "loss : 0.5131204128265381\n",
            "total_correct : 84\n",
            "loss : 0.4199071228504181\n",
            "total_correct : 83\n",
            "loss : 0.27927225828170776\n",
            "total_correct : 91\n",
            "loss : 0.416658490896225\n",
            "total_correct : 89\n",
            "loss : 0.3981143534183502\n",
            "total_correct : 87\n",
            "loss : 0.46431857347488403\n",
            "total_correct : 83\n",
            "loss : 0.3945566415786743\n",
            "total_correct : 86\n",
            "loss : 0.38493427634239197\n",
            "total_correct : 89\n",
            "loss : 0.49515843391418457\n",
            "total_correct : 83\n",
            "loss : 0.4936616122722626\n",
            "total_correct : 82\n",
            "loss : 0.4976041913032532\n",
            "total_correct : 84\n",
            "loss : 0.2956163287162781\n",
            "total_correct : 89\n",
            "loss : 0.4355364739894867\n",
            "total_correct : 82\n",
            "loss : 0.4488542079925537\n",
            "total_correct : 87\n",
            "loss : 0.5990771651268005\n",
            "total_correct : 85\n",
            "loss : 0.4001794755458832\n",
            "total_correct : 86\n",
            "loss : 0.38002532720565796\n",
            "total_correct : 84\n",
            "loss : 0.6205567121505737\n",
            "total_correct : 77\n",
            "loss : 0.4895029067993164\n",
            "total_correct : 78\n",
            "loss : 0.486586332321167\n",
            "total_correct : 80\n",
            "loss : 0.45165330171585083\n",
            "total_correct : 87\n",
            "loss : 0.4618271589279175\n",
            "total_correct : 82\n",
            "loss : 0.5182493329048157\n",
            "total_correct : 79\n",
            "loss : 0.40421608090400696\n",
            "total_correct : 87\n",
            "loss : 0.4584626853466034\n",
            "total_correct : 83\n",
            "loss : 0.4787183403968811\n",
            "total_correct : 85\n",
            "loss : 0.3337811529636383\n",
            "total_correct : 89\n",
            "loss : 0.3971032202243805\n",
            "total_correct : 85\n",
            "loss : 0.42644137144088745\n",
            "total_correct : 82\n",
            "loss : 0.5446076393127441\n",
            "total_correct : 79\n",
            "loss : 0.5136620402336121\n",
            "total_correct : 87\n",
            "loss : 0.3874877095222473\n",
            "total_correct : 90\n",
            "loss : 0.551846981048584\n",
            "total_correct : 82\n",
            "loss : 0.38453882932662964\n",
            "total_correct : 86\n",
            "loss : 0.46472159028053284\n",
            "total_correct : 82\n",
            "loss : 0.3605060279369354\n",
            "total_correct : 89\n",
            "loss : 0.49321678280830383\n",
            "total_correct : 81\n",
            "loss : 0.45460137724876404\n",
            "total_correct : 83\n",
            "loss : 0.4617480933666229\n",
            "total_correct : 83\n",
            "loss : 0.4810473918914795\n",
            "total_correct : 81\n",
            "loss : 0.5258796215057373\n",
            "total_correct : 84\n",
            "loss : 0.46850165724754333\n",
            "total_correct : 83\n",
            "loss : 0.4254281520843506\n",
            "total_correct : 88\n",
            "loss : 0.4498627781867981\n",
            "total_correct : 81\n",
            "loss : 0.45519429445266724\n",
            "total_correct : 86\n",
            "loss : 0.39266055822372437\n",
            "total_correct : 86\n",
            "loss : 0.5080121755599976\n",
            "total_correct : 79\n",
            "loss : 0.5106886029243469\n",
            "total_correct : 79\n",
            "loss : 0.541244387626648\n",
            "total_correct : 85\n",
            "loss : 0.39622917771339417\n",
            "total_correct : 84\n",
            "loss : 0.4182378053665161\n",
            "total_correct : 83\n",
            "loss : 0.5402308106422424\n",
            "total_correct : 79\n",
            "loss : 0.5864484310150146\n",
            "total_correct : 76\n",
            "loss : 0.38033774495124817\n",
            "total_correct : 83\n",
            "loss : 0.4082317352294922\n",
            "total_correct : 86\n",
            "loss : 0.4852727949619293\n",
            "total_correct : 84\n",
            "loss : 0.5836362838745117\n",
            "total_correct : 81\n",
            "loss : 0.5047680735588074\n",
            "total_correct : 84\n",
            "loss : 0.7103688716888428\n",
            "total_correct : 76\n",
            "loss : 0.4673730432987213\n",
            "total_correct : 75\n",
            "loss : 0.4642004370689392\n",
            "total_correct : 82\n",
            "loss : 0.47230470180511475\n",
            "total_correct : 82\n",
            "loss : 0.5485120415687561\n",
            "total_correct : 81\n",
            "loss : 0.4199300706386566\n",
            "total_correct : 84\n",
            "loss : 0.48218804597854614\n",
            "total_correct : 84\n",
            "loss : 0.4292823076248169\n",
            "total_correct : 89\n",
            "loss : 0.38383492827415466\n",
            "total_correct : 85\n",
            "loss : 0.5323242545127869\n",
            "total_correct : 81\n",
            "loss : 0.44721123576164246\n",
            "total_correct : 84\n",
            "loss : 0.43978825211524963\n",
            "total_correct : 84\n",
            "loss : 0.5156952142715454\n",
            "total_correct : 79\n",
            "loss : 0.41803961992263794\n",
            "total_correct : 83\n",
            "loss : 0.4088677167892456\n",
            "total_correct : 87\n",
            "loss : 0.360397607088089\n",
            "total_correct : 82\n",
            "loss : 0.29201313853263855\n",
            "total_correct : 90\n",
            "loss : 0.4830993413925171\n",
            "total_correct : 81\n",
            "loss : 0.3820330500602722\n",
            "total_correct : 87\n",
            "loss : 0.4301191568374634\n",
            "total_correct : 88\n",
            "loss : 0.49204227328300476\n",
            "total_correct : 81\n",
            "loss : 0.38724127411842346\n",
            "total_correct : 85\n",
            "loss : 0.6330763697624207\n",
            "total_correct : 74\n",
            "loss : 0.40096309781074524\n",
            "total_correct : 85\n",
            "loss : 0.41489437222480774\n",
            "total_correct : 84\n",
            "loss : 0.27674493193626404\n",
            "total_correct : 90\n",
            "loss : 0.6271271705627441\n",
            "total_correct : 75\n",
            "loss : 0.4136393368244171\n",
            "total_correct : 91\n",
            "loss : 0.31104958057403564\n",
            "total_correct : 87\n",
            "loss : 0.2755865156650543\n",
            "total_correct : 90\n",
            "loss : 0.355071097612381\n",
            "total_correct : 82\n",
            "loss : 0.3579566180706024\n",
            "total_correct : 91\n",
            "loss : 0.40438312292099\n",
            "total_correct : 87\n",
            "loss : 0.4558202624320984\n",
            "total_correct : 82\n",
            "loss : 0.3120407462120056\n",
            "total_correct : 87\n",
            "loss : 0.2986035645008087\n",
            "total_correct : 87\n",
            "loss : 0.36709487438201904\n",
            "total_correct : 87\n",
            "loss : 0.5560181736946106\n",
            "total_correct : 81\n",
            "loss : 0.488562673330307\n",
            "total_correct : 86\n",
            "loss : 0.2710950970649719\n",
            "total_correct : 92\n",
            "loss : 0.4204444885253906\n",
            "total_correct : 85\n",
            "loss : 0.5174549221992493\n",
            "total_correct : 79\n",
            "loss : 0.4086135923862457\n",
            "total_correct : 87\n",
            "loss : 0.29984763264656067\n",
            "total_correct : 89\n",
            "loss : 0.40246158838272095\n",
            "total_correct : 86\n",
            "loss : 0.4659136235713959\n",
            "total_correct : 82\n",
            "loss : 0.39646321535110474\n",
            "total_correct : 88\n",
            "loss : 0.47125500440597534\n",
            "total_correct : 84\n",
            "loss : 0.49479344487190247\n",
            "total_correct : 84\n",
            "loss : 0.4482736587524414\n",
            "total_correct : 81\n",
            "loss : 0.42850029468536377\n",
            "total_correct : 87\n",
            "loss : 0.5534905195236206\n",
            "total_correct : 81\n",
            "loss : 0.41528674960136414\n",
            "total_correct : 84\n",
            "loss : 0.47721415758132935\n",
            "total_correct : 84\n",
            "loss : 0.4557265341281891\n",
            "total_correct : 82\n",
            "loss : 0.40998023748397827\n",
            "total_correct : 86\n",
            "loss : 0.5209518074989319\n",
            "total_correct : 82\n",
            "loss : 0.39829689264297485\n",
            "total_correct : 84\n",
            "loss : 0.5017209053039551\n",
            "total_correct : 78\n",
            "loss : 0.3804032504558563\n",
            "total_correct : 84\n",
            "loss : 0.28995946049690247\n",
            "total_correct : 90\n",
            "loss : 0.35144680738449097\n",
            "total_correct : 85\n",
            "loss : 0.4023919999599457\n",
            "total_correct : 80\n",
            "loss : 0.46669742465019226\n",
            "total_correct : 82\n",
            "loss : 0.34494549036026\n",
            "total_correct : 88\n",
            "loss : 0.5985637903213501\n",
            "total_correct : 80\n",
            "loss : 0.444009006023407\n",
            "total_correct : 80\n",
            "loss : 0.37450486421585083\n",
            "total_correct : 86\n",
            "loss : 0.49098560214042664\n",
            "total_correct : 83\n",
            "loss : 0.409760981798172\n",
            "total_correct : 82\n",
            "loss : 0.37252312898635864\n",
            "total_correct : 84\n",
            "loss : 0.3431060314178467\n",
            "total_correct : 86\n",
            "loss : 0.40543219447135925\n",
            "total_correct : 88\n",
            "loss : 0.43392863869667053\n",
            "total_correct : 87\n",
            "loss : 0.6799768805503845\n",
            "total_correct : 79\n",
            "loss : 0.3831193149089813\n",
            "total_correct : 84\n",
            "loss : 0.5800171494483948\n",
            "total_correct : 82\n",
            "loss : 0.46194523572921753\n",
            "total_correct : 81\n",
            "loss : 0.5168582797050476\n",
            "total_correct : 81\n",
            "loss : 0.38187816739082336\n",
            "total_correct : 82\n",
            "loss : 0.5052381157875061\n",
            "total_correct : 80\n",
            "loss : 0.45237240195274353\n",
            "total_correct : 85\n",
            "loss : 0.5262171030044556\n",
            "total_correct : 78\n",
            "loss : 0.5009849071502686\n",
            "total_correct : 85\n",
            "loss : 0.36885884404182434\n",
            "total_correct : 86\n",
            "loss : 0.4176235496997833\n",
            "total_correct : 86\n",
            "loss : 0.4114395081996918\n",
            "total_correct : 82\n",
            "loss : 0.37521079182624817\n",
            "total_correct : 81\n",
            "loss : 0.3733491599559784\n",
            "total_correct : 86\n",
            "loss : 0.4418739378452301\n",
            "total_correct : 83\n",
            "loss : 0.3613367974758148\n",
            "total_correct : 88\n",
            "loss : 0.4828450381755829\n",
            "total_correct : 85\n",
            "loss : 0.5245634317398071\n",
            "total_correct : 80\n",
            "loss : 0.5237597227096558\n",
            "total_correct : 77\n",
            "loss : 0.38948047161102295\n",
            "total_correct : 87\n",
            "loss : 0.46095478534698486\n",
            "total_correct : 88\n",
            "loss : 0.549846887588501\n",
            "total_correct : 77\n",
            "loss : 0.3570397198200226\n",
            "total_correct : 86\n",
            "loss : 0.32011958956718445\n",
            "total_correct : 87\n",
            "loss : 0.4179879128932953\n",
            "total_correct : 87\n",
            "loss : 0.44985318183898926\n",
            "total_correct : 88\n",
            "loss : 0.37713223695755005\n",
            "total_correct : 87\n",
            "loss : 0.3088694214820862\n",
            "total_correct : 88\n",
            "loss : 0.43375352025032043\n",
            "total_correct : 80\n",
            "loss : 0.46434855461120605\n",
            "total_correct : 85\n",
            "loss : 0.3510677218437195\n",
            "total_correct : 84\n",
            "loss : 0.4517552852630615\n",
            "total_correct : 86\n",
            "loss : 0.34424301981925964\n",
            "total_correct : 88\n",
            "loss : 0.4257930815219879\n",
            "total_correct : 83\n",
            "loss : 0.3289853632450104\n",
            "total_correct : 89\n",
            "loss : 0.44240960478782654\n",
            "total_correct : 84\n",
            "loss : 0.4220860004425049\n",
            "total_correct : 84\n",
            "loss : 0.3542465269565582\n",
            "total_correct : 85\n",
            "loss : 0.2837613821029663\n",
            "total_correct : 87\n",
            "loss : 0.4488259255886078\n",
            "total_correct : 82\n",
            "loss : 0.47225138545036316\n",
            "total_correct : 79\n",
            "loss : 0.4589705169200897\n",
            "total_correct : 81\n",
            "loss : 0.3612881004810333\n",
            "total_correct : 86\n",
            "loss : 0.3641946017742157\n",
            "total_correct : 86\n",
            "loss : 0.46457457542419434\n",
            "total_correct : 82\n",
            "loss : 0.5740284323692322\n",
            "total_correct : 79\n",
            "loss : 0.3877171576023102\n",
            "total_correct : 90\n",
            "loss : 0.5029646158218384\n",
            "total_correct : 82\n",
            "loss : 0.45871657133102417\n",
            "total_correct : 83\n",
            "loss : 0.3217262923717499\n",
            "total_correct : 86\n",
            "loss : 0.378465473651886\n",
            "total_correct : 86\n",
            "loss : 0.3314060866832733\n",
            "total_correct : 88\n",
            "loss : 0.3448740243911743\n",
            "total_correct : 84\n",
            "loss : 0.4382510781288147\n",
            "total_correct : 83\n",
            "loss : 0.28562459349632263\n",
            "total_correct : 90\n",
            "loss : 0.3574526607990265\n",
            "total_correct : 84\n",
            "loss : 0.39492425322532654\n",
            "total_correct : 86\n",
            "loss : 0.4311200976371765\n",
            "total_correct : 84\n",
            "loss : 0.37420791387557983\n",
            "total_correct : 83\n",
            "loss : 0.40284591913223267\n",
            "total_correct : 82\n",
            "loss : 0.5649076700210571\n",
            "total_correct : 79\n",
            "loss : 0.4307732880115509\n",
            "total_correct : 83\n",
            "loss : 0.4450463354587555\n",
            "total_correct : 85\n",
            "loss : 0.5028687119483948\n",
            "total_correct : 84\n",
            "loss : 0.4536961615085602\n",
            "total_correct : 82\n",
            "loss : 0.39548245072364807\n",
            "total_correct : 83\n",
            "loss : 0.3669999837875366\n",
            "total_correct : 87\n",
            "loss : 0.454537034034729\n",
            "total_correct : 82\n",
            "loss : 0.5435549020767212\n",
            "total_correct : 81\n",
            "loss : 0.2913917303085327\n",
            "total_correct : 86\n",
            "loss : 0.4542757272720337\n",
            "total_correct : 86\n",
            "loss : 0.6578347682952881\n",
            "total_correct : 75\n",
            "loss : 0.48710933327674866\n",
            "total_correct : 84\n",
            "loss : 0.39362189173698425\n",
            "total_correct : 87\n",
            "loss : 0.3749471604824066\n",
            "total_correct : 83\n",
            "loss : 0.40396156907081604\n",
            "total_correct : 86\n"
          ],
          "name": "stdout"
        }
      ]
    },
    {
      "cell_type": "code",
      "metadata": {
        "id": "ikgC1M8VxrRK",
        "colab_type": "code",
        "colab": {
          "base_uri": "https://localhost:8080/",
          "height": 294
        },
        "outputId": "8b03c3a6-b981-4072-fbc4-49358bb0e4fe"
      },
      "source": [
        "plt.title(\"Loss\")\n",
        "plt.plot([x for x in range(len(total_loss))], total_loss)"
      ],
      "execution_count": 102,
      "outputs": [
        {
          "output_type": "execute_result",
          "data": {
            "text/plain": [
              "[<matplotlib.lines.Line2D at 0x7ff72c9feda0>]"
            ]
          },
          "metadata": {
            "tags": []
          },
          "execution_count": 102
        },
        {
          "output_type": "display_data",
          "data": {
            "image/png": "[encoded data removed]",
            "text/plain": [
              "<Figure size 432x288 with 1 Axes>"
            ]
          },
          "metadata": {
            "tags": []
          }
        }
      ]
    },
    {
      "cell_type": "code",
      "metadata": {
        "id": "5hO1i8DfyrVD",
        "colab_type": "code",
        "colab": {
          "base_uri": "https://localhost:8080/",
          "height": 294
        },
        "outputId": "7ad9bbf2-4cc4-4de7-d750-2a27a4c7e12a"
      },
      "source": [
        "plt.title(\"Corrects\")\n",
        "plt.plot([x for x in range(len(total_correct))], total_correct)"
      ],
      "execution_count": 103,
      "outputs": [
        {
          "output_type": "execute_result",
          "data": {
            "text/plain": [
              "[<matplotlib.lines.Line2D at 0x7ff72c9feac8>]"
            ]
          },
          "metadata": {
            "tags": []
          },
          "execution_count": 103
        },
        {
          "output_type": "display_data",
          "data": {
            "image/png": "[encoded data removed]",
            "text/plain": [
              "<Figure size 432x288 with 1 Axes>"
            ]
          },
          "metadata": {
            "tags": []
          }
        }
      ]
    },
    {
      "cell_type": "markdown",
      "metadata": {
        "id": "2le2D8QUG557",
        "colab_type": "text"
      },
      "source": [
        "##Training on multiple epochs"
      ]
    },
    {
      "cell_type": "code",
      "metadata": {
        "id": "vStBcPljzZUm",
        "colab_type": "code",
        "colab": {
          "base_uri": "https://localhost:8080/",
          "height": 527
        },
        "outputId": "26e9e741-2682-4071-b2a4-7617332156a1"
      },
      "source": [
        "cnn = Network()\n",
        "\n",
        "train_loader = torch.utils.data.DataLoader(train, batch_size=100)\n",
        "optimizer  = optim.Adam(cnn.parameters(), lr=0.01)\n",
        "\n",
        "losses = []\n",
        "corrects = []\n",
        "for epoch in range(10):\n",
        "    total_loss = 0\n",
        "    total_correct = 0\n",
        "\n",
        "    for batch in train_loader:\n",
        "        images, labels = batch\n",
        "\n",
        "        preds = cnn(images)\n",
        "        loss = F.cross_entropy(preds, labels)\n",
        "\n",
        "        optimizer.zero_grad()\n",
        "        loss.backward()\n",
        "        optimizer.step()\n",
        "\n",
        "        total_loss += loss.item()\n",
        "        losses.append(loss.item())\n",
        "        total_correct += get_num_correct(preds, labels)\n",
        "        corrects.append(get_num_correct(preds, labels))\n",
        "\n",
        "    print('epoch :', epoch)\n",
        "    print('Total loss :', total_loss)\n",
        "    print('Total correct :', total_correct)\n"
      ],
      "execution_count": 105,
      "outputs": [
        {
          "output_type": "stream",
          "text": [
            "epoch : 0\n",
            "Total loss : 321.7699934989214\n",
            "Total correct : 47883\n",
            "epoch : 1\n",
            "Total loss : 231.13527643680573\n",
            "Total correct : 51535\n",
            "epoch : 2\n",
            "Total loss : 210.44264052808285\n",
            "Total correct : 52077\n",
            "epoch : 3\n",
            "Total loss : 203.31078047305346\n",
            "Total correct : 52473\n",
            "epoch : 4\n",
            "Total loss : 195.9065300822258\n",
            "Total correct : 52794\n",
            "epoch : 5\n",
            "Total loss : 188.2809565588832\n",
            "Total correct : 53049\n",
            "epoch : 6\n",
            "Total loss : 187.64679395407438\n",
            "Total correct : 53054\n",
            "epoch : 7\n",
            "Total loss : 182.38322135806084\n",
            "Total correct : 53243\n",
            "epoch : 8\n",
            "Total loss : 182.01134299486876\n",
            "Total correct : 53270\n",
            "epoch : 9\n",
            "Total loss : 177.85461970418692\n",
            "Total correct : 53420\n"
          ],
          "name": "stdout"
        }
      ]
    },
    {
      "cell_type": "code",
      "metadata": {
        "id": "3sk06FumCZl8",
        "colab_type": "code",
        "colab": {
          "base_uri": "https://localhost:8080/",
          "height": 294
        },
        "outputId": "cfd61d54-84c8-4290-ffeb-a907a7405267"
      },
      "source": [
        "plt.title(\"Loss\")\n",
        "plt.plot([x for x in range(len(losses))], losses)"
      ],
      "execution_count": 106,
      "outputs": [
        {
          "output_type": "execute_result",
          "data": {
            "text/plain": [
              "[<matplotlib.lines.Line2D at 0x7ff72c8daa58>]"
            ]
          },
          "metadata": {
            "tags": []
          },
          "execution_count": 106
        },
        {
          "output_type": "display_data",
          "data": {
            "image/png": "[encoded data removed]",
            "text/plain": [
              "<Figure size 432x288 with 1 Axes>"
            ]
          },
          "metadata": {
            "tags": []
          }
        }
      ]
    },
    {
      "cell_type": "code",
      "metadata": {
        "id": "0rF7v5VlEAJo",
        "colab_type": "code",
        "colab": {
          "base_uri": "https://localhost:8080/",
          "height": 294
        },
        "outputId": "a116bcdf-4f59-4c43-b905-009ba7cce03f"
      },
      "source": [
        "plt.title(\"Loss\")\n",
        "plt.plot([x for x in range(len(corrects))], corrects)"
      ],
      "execution_count": 107,
      "outputs": [
        {
          "output_type": "execute_result",
          "data": {
            "text/plain": [
              "[<matplotlib.lines.Line2D at 0x7ff72c8da828>]"
            ]
          },
          "metadata": {
            "tags": []
          },
          "execution_count": 107
        },
        {
          "output_type": "display_data",
          "data": {
            "image/png": "[encoded data removed]",
            "text/plain": [
              "<Figure size 432x288 with 1 Axes>"
            ]
          },
          "metadata": {
            "tags": []
          }
        }
      ]
    }
  ]
}